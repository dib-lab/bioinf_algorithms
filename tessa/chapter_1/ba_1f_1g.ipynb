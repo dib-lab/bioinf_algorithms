{
 "cells": [
  {
   "cell_type": "code",
   "execution_count": null,
   "metadata": {},
   "outputs": [],
   "source": [
    "Define the skew of a DNA string Genome, denoted Skew(Genome), \n",
    "as the difference between the total number of occurrences of 'G' and 'C' in Genome.\n",
    "Let Prefixi (Genome) denote the prefix (i.e., initial substring) of Genome of length i.\n",
    "For example, the values of Skew(Prefixi (\"CATGGGCATCGGCCATACGCC\")) are:\n",
    "    \n",
    "0 -1 -1 -1 0 1 2 1 1 1 0 1 2 1 0 0 0 0 -1 0 -1 -2\n",
    "\n",
    "Minimum Skew Problem\n",
    "Find a position in a genome minimizing the skew.\n",
    "\n",
    "Given: A DNA string Genome.\n",
    "\n",
    "Return: All integer(s) i minimizing Skew(Prefixi (Text)) over all values of i (from 0 to |Genome|).\n",
    "\n"
   ]
  },
  {
   "cell_type": "code",
   "execution_count": 2,
   "metadata": {},
   "outputs": [],
   "source": [
    "genome = 'CCTATCGGTGGATTAGCATGTCCCTGTACGTTTCGCCGCGAACTAGTTCACACGGCTTGATGGCAAATGGTTTTTCCGGCGACCGTAATCGTCCACCGAG'"
   ]
  },
  {
   "cell_type": "code",
   "execution_count": 8,
   "metadata": {},
   "outputs": [],
   "source": [
    "def find_min_skew(genome):\n",
    "    skew = [0]\n",
    "    min_skew = 0\n",
    "    min_skew_pos = []\n",
    "    for i, b in enumerate(genome,1):\n",
    "        if b.upper() == 'G':\n",
    "            skew_val = skew[-1] + 1\n",
    "            skew.append(skew_val)\n",
    "        elif b.upper() == 'C':\n",
    "            skew_val = skew[-1] - 1\n",
    "            skew.append(skew_val)\n",
    "            \n",
    "            if skew_val == min_skew:\n",
    "              #  min_skew = skew_val\n",
    "                min_skew_pos.append(i)\n",
    "                \n",
    "            elif skew_val < min_skew:\n",
    "                min_skew = skew_val\n",
    "                min_skew_pos = [i]\n",
    "            \n",
    "        else:\n",
    "            skew_val = skew[-1]\n",
    "            skew.append(skew_val)\n",
    "            \n",
    "    return min_skew_pos\n",
    "            \n",
    "    "
   ]
  },
  {
   "cell_type": "code",
   "execution_count": 12,
   "metadata": {},
   "outputs": [],
   "source": [
    "def find_min_skew(genome):\n",
    "    skew_val = 0\n",
    "    min_skew = 0\n",
    "    min_skew_pos = []\n",
    "    for i, b in enumerate(genome,1):\n",
    "        if b.upper() == 'G':\n",
    "            skew_val = skew_val + 1\n",
    "        elif b.upper() == 'C':\n",
    "            skew_val = skew_val - 1\n",
    "            if skew_val == min_skew:\n",
    "                min_skew_pos.append(i)       \n",
    "            elif skew_val < min_skew:\n",
    "                min_skew = skew_val\n",
    "                min_skew_pos = [i]\n",
    "    return min_skew_pos\n",
    "            \n",
    "    "
   ]
  },
  {
   "cell_type": "code",
   "execution_count": 13,
   "metadata": {},
   "outputs": [
    {
     "data": {
      "text/plain": [
       "[53, 97]"
      ]
     },
     "execution_count": 13,
     "metadata": {},
     "output_type": "execute_result"
    }
   ],
   "source": [
    "find_min_skew(genome)"
   ]
  },
  {
   "cell_type": "code",
   "execution_count": null,
   "metadata": {},
   "outputs": [],
   "source": [
    "We say that position i in k-mers p1 … pk and q1 … qk is a mismatch if pi ≠ qi. \n",
    "For example, CGAAT and CGGAC have two mismatches. \n",
    "The number of mismatches between strings p and q is called the Hamming distance \n",
    "between these strings and is denoted HammingDistance(p, q).\n",
    "\n",
    "Hamming Distance Problem\n",
    "Compute the Hamming distance between two DNA strings.\n",
    "\n",
    "Given: Two DNA strings.\n",
    "\n",
    "Return: An integer value representing the Hamming distance."
   ]
  },
  {
   "cell_type": "code",
   "execution_count": null,
   "metadata": {},
   "outputs": [],
   "source": [
    "patternA = GGGCCGTTGGT\n",
    "patternB = GGACCGTTGAC"
   ]
  },
  {
   "cell_type": "code",
   "execution_count": 14,
   "metadata": {},
   "outputs": [],
   "source": [
    "def hamming_distance(patternA, patternB):\n",
    "    h_dist = 0\n",
    "    assert len(patternA) == len(patternB), 'please input strings of equal length'\n",
    "    for i in range(len(patternA)):\n",
    "        if patternA[i] !=patternB[i]:\n",
    "            h_dist+=1\n",
    "    return h_dist"
   ]
  },
  {
   "cell_type": "code",
   "execution_count": null,
   "metadata": {},
   "outputs": [],
   "source": [
    "We say that a k-mer Pattern appears as a substring of Text with at most d mismatches if there is some k-mer substring Pattern' of Text having d or fewer mismatches with Pattern, i.e., HammingDistance(Pattern, Pattern') ≤ d. Our observation that a DnaA box may appear with slight variations leads to the following generalization of the Pattern Matching Problem.\n",
    "\n",
    "Approximate Pattern Matching Problem\n",
    "Find all approximate occurrences of a pattern in a string.\n",
    "\n",
    "Given: Strings Pattern and Text along with an integer d.\n",
    "\n",
    "Return: All starting positions where Pattern appears as a substring of Text with at most d mismatches.\n",
    "\n",
    "Sample Dataset"
   ]
  },
  {
   "cell_type": "code",
   "execution_count": 17,
   "metadata": {},
   "outputs": [],
   "source": [
    "def find_fuzzy_pattern(genome, pattern, numMismatch):\n",
    "    pattern_starts = []\n",
    "    for p_start in range(len(genome) - len(pattern) +1):\n",
    "        kmer = genome[p_start: p_start + len(pattern)]\n",
    "        # do equality check first (faster than hamming dist?)\n",
    "        if kmer == pattern:\n",
    "            pattern_starts.append(p_start)\n",
    "        elif hamming_distance(pattern,kmer) <= numMismatch:\n",
    "            pattern_starts.append(p_start)\n",
    "    return pattern_starts"
   ]
  },
  {
   "cell_type": "code",
   "execution_count": 16,
   "metadata": {},
   "outputs": [],
   "source": [
    "bases= \"CGCCCGAATCCAGAACGCATTCCCATATTTCGGGACCACTGGCCTCCACGGTACGGACGTCAATCAAATGCCTAGCGGCTTGTGGTTTCTCCTACGCTCC\"\n",
    "patternA = \"ATTCTGGA\"\n",
    "dist = 3"
   ]
  },
  {
   "cell_type": "code",
   "execution_count": 18,
   "metadata": {},
   "outputs": [
    {
     "data": {
      "text/plain": [
       "[6, 7, 26, 27, 78]"
      ]
     },
     "execution_count": 18,
     "metadata": {},
     "output_type": "execute_result"
    }
   ],
   "source": [
    "find_fuzzy_pattern(bases,patternA,dist)"
   ]
  },
  {
   "cell_type": "code",
   "execution_count": null,
   "metadata": {},
   "outputs": [],
   "source": []
  }
 ],
 "metadata": {
  "kernelspec": {
   "display_name": "Python 3",
   "language": "python",
   "name": "python3"
  },
  "language_info": {
   "codemirror_mode": {
    "name": "ipython",
    "version": 3
   },
   "file_extension": ".py",
   "mimetype": "text/x-python",
   "name": "python",
   "nbconvert_exporter": "python",
   "pygments_lexer": "ipython3",
   "version": "3.6.5"
  }
 },
 "nbformat": 4,
 "nbformat_minor": 2
}
