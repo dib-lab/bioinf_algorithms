{
 "cells": [
  {
   "cell_type": "markdown",
   "metadata": {},
   "source": [
    "# Chapter 1\n",
    "## Problem 1A"
   ]
  },
  {
   "cell_type": "code",
   "execution_count": 30,
   "metadata": {},
   "outputs": [],
   "source": [
    "# Problem 1A\n",
    "def PatternCount(Text, Pattern):\n",
    "    count = 0\n",
    "    overlap = len(Text) - len(Pattern) + 1\n",
    "    for i in range(overlap):\n",
    "        start = i\n",
    "        end = i + len(Pattern)\n",
    "        #print(start, end, Text[start:end])\n",
    "        if Text[start:end] == Pattern:\n",
    "            count = count + 1\n",
    "    return(count)"
   ]
  },
  {
   "cell_type": "code",
   "execution_count": 45,
   "metadata": {},
   "outputs": [
    {
     "name": "stdout",
     "output_type": "stream",
     "text": [
      "0 3 GCG\n",
      "1 4 CGC\n",
      "2 5 GCG\n"
     ]
    },
    {
     "data": {
      "text/plain": [
       "2"
      ]
     },
     "execution_count": 45,
     "metadata": {},
     "output_type": "execute_result"
    }
   ],
   "source": [
    "PatternCount(\"GCGCG\", \"GCG\")"
   ]
  },
  {
   "cell_type": "code",
   "execution_count": 8,
   "metadata": {},
   "outputs": [],
   "source": [
    "txt = \"ATATAT\"\n",
    "kmer_size = 3"
   ]
  },
  {
   "cell_type": "code",
   "execution_count": 9,
   "metadata": {},
   "outputs": [
    {
     "data": {
      "text/plain": [
       "range(0, 3)"
      ]
     },
     "execution_count": 9,
     "metadata": {},
     "output_type": "execute_result"
    }
   ],
   "source": [
    "range(len(txt) - kmer_size)"
   ]
  },
  {
   "cell_type": "markdown",
   "metadata": {},
   "source": [
    "## Problem 1B"
   ]
  },
  {
   "cell_type": "code",
   "execution_count": null,
   "metadata": {},
   "outputs": [],
   "source": [
    "# Problem 1B\n",
    "# Frequent words problem: Find the most frequent \n",
    "# k-mers in a string. \n",
    "# Input: a string Text and an integer k\n",
    "# Output: All most frequent k-mers in Text\n",
    "def FrequentWords(Text, kmer_size):\n",
    "    frequentPatterns = set() # an empty set\n",
    "    count = []\n",
    "    # or initialize list with known size\n",
    "    for i in range(len(Text) - kmer_size):\n",
    "        start = i\n",
    "        end = i + len(kmer_size)\n",
    "        Pattern = Text[start:end] \n",
    "        count.append(PatternCount(Text, Pattern))\n",
    "        # count[i] = PatternCount(Text, Pattern)\n",
    "    maxCount = max(count)\n",
    "        if count\n"
   ]
  },
  {
   "cell_type": "code",
   "execution_count": 31,
   "metadata": {},
   "outputs": [],
   "source": [
    "# Problem 1B\n",
    "# Frequent words problem: Find the most frequent \n",
    "# k-mers in a string. \n",
    "# Input: a string Text and an integer k\n",
    "# Output: All most frequent k-mers in Text\n",
    "def FrequentWords(Text, kmer_size):\n",
    "    FrequentPatterns = set()\n",
    "    count = []\n",
    "    for i in range(len(Text) - kmer_size):\n",
    "        start = i\n",
    "        end = i + kmer_size\n",
    "        Pattern = Text[start:end]\n",
    "        count.append(PatternCount(Text, Pattern))\n",
    "    maxCount = max(count)\n",
    "    for i in range(len(Text) - kmer_size):\n",
    "        if count[i] == maxCount:\n",
    "            start = i\n",
    "            end = i + kmer_size\n",
    "            Pattern = Text[start:end]\n",
    "            FrequentPatterns.add(Pattern)\n",
    "    return FrequentPatterns"
   ]
  },
  {
   "cell_type": "markdown",
   "metadata": {},
   "source": [
    "## Problem 1C"
   ]
  },
  {
   "cell_type": "code",
   "execution_count": 22,
   "metadata": {},
   "outputs": [
    {
     "ename": "SyntaxError",
     "evalue": "invalid syntax (<ipython-input-22-70935800a4ca>, line 16)",
     "output_type": "error",
     "traceback": [
      "\u001b[0;36m  File \u001b[0;32m\"<ipython-input-22-70935800a4ca>\"\u001b[0;36m, line \u001b[0;32m16\u001b[0m\n\u001b[0;31m    else reverse[i] == \"g\":\u001b[0m\n\u001b[0m               ^\u001b[0m\n\u001b[0;31mSyntaxError\u001b[0m\u001b[0;31m:\u001b[0m invalid syntax\n"
     ]
    }
   ],
   "source": [
    "# Problem 1C\n",
    "# Find the reverse complement of a DNA string\n",
    "# Input: a DNA string Pattern\n",
    "# Output: Pattern', the reverse complement of Pattern\n",
    "def ReverseComplement(Text):\n",
    "    Text = Text.lower()\n",
    "    reverse = Text[::-1]\n",
    "    complement = []\n",
    "    for i in range(len(reverse)):\n",
    "        if reverse[i] == \"a\":\n",
    "            complement.append(\"t\")\n",
    "        elif reverse[i] == \"t\":\n",
    "            complement.append(\"a\")\n",
    "        elif reverse[i] == \"c\":\n",
    "            complement.append(\"g\")\n",
    "        else reverse[i] == \"g\":\n",
    "            complement.append(\"c\")\n",
    "    return(complement)"
   ]
  },
  {
   "cell_type": "code",
   "execution_count": 21,
   "metadata": {},
   "outputs": [
    {
     "data": {
      "text/plain": [
       "range(0, 4)"
      ]
     },
     "execution_count": 21,
     "metadata": {},
     "output_type": "execute_result"
    }
   ],
   "source": [
    "txt = \"ATCG\"\n",
    "range(len(txt))"
   ]
  },
  {
   "cell_type": "code",
   "execution_count": 15,
   "metadata": {},
   "outputs": [
    {
     "name": "stdout",
     "output_type": "stream",
     "text": [
      "A\n",
      "C\n",
      "G\n"
     ]
    },
    {
     "data": {
      "text/plain": [
       "'ACG'"
      ]
     },
     "execution_count": 15,
     "metadata": {},
     "output_type": "execute_result"
    }
   ],
   "source": [
    "ReverseComplement(\"GCA\")"
   ]
  },
  {
   "cell_type": "code",
   "execution_count": 27,
   "metadata": {},
   "outputs": [
    {
     "data": {
      "text/plain": [
       "[2]"
      ]
     },
     "execution_count": 27,
     "metadata": {},
     "output_type": "execute_result"
    }
   ],
   "source": [
    "PatternMatch(\"GCGCG\", \"GCG\")"
   ]
  },
  {
   "cell_type": "code",
   "execution_count": 32,
   "metadata": {},
   "outputs": [
    {
     "data": {
      "text/plain": [
       "{'ATGA', 'TGAT'}"
      ]
     },
     "execution_count": 32,
     "metadata": {},
     "output_type": "execute_result"
    }
   ],
   "source": [
    "FrequentWords(\"ATGATGATCGATTTAGCGTA\", 4)"
   ]
  },
  {
   "cell_type": "code",
   "execution_count": null,
   "metadata": {},
   "outputs": [],
   "source": [
    "# python tutor:\n",
    "# http://pythontutor.com/visualize.html#code=def%20PatternCount%28Text,%20Pattern%29%3A%0A%20%20%20count%20%3D%200%0A%20%20%20overlap%20%3D%20len%28Text%29%20-%20len%28Pattern%29%20%2B%201%0A%20%20%20for%20i%20in%20range%28overlap%29%3A%0A%20%20%20%20%20%20%20start%20%3D%20i%0A%20%20%20%20%20%20%20end%20%3D%20i%20%2B%20len%28Pattern%29%0A%20%20%20%20%20%20%20if%20Text%5Bstart%3Aend%5D%20%3D%3D%20Pattern%3A%0A%20%20%20%20%20%20%20%20%20%20%20count%20%3D%20count%20%2B%201%0A%20%20%20return%28count%29%0A%0Adef%20FrequentWords%28Text,%20kmer_size%29%3A%0A%20%20%20%20FrequentPatterns%20%3D%20set%28%29%0A%20%20%20%20count%20%3D%20%5B%5D%0A%20%20%20%20for%20i%20in%20range%28len%28Text%29%20-%20kmer_size%29%3A%0A%20%20%20%20%20%20%20%20start%20%3D%20i%0A%20%20%20%20%20%20%20%20end%20%3D%20i%20%2B%20kmer_size%0A%20%20%20%20%20%20%20%20Pattern%20%3D%20Text%5Bstart%3Aend%5D%0A%20%20%20%20%20%20%20%20count.append%28PatternCount%28Text,%20Pattern%29%29%0A%20%20%20%20maxCount%20%3D%20max%28count%29%0A%20%20%20%20for%20i%20in%20range%28len%28Text%29%20-%20kmer_size%29%3A%0A%20%20%20%20%20%20%20%20if%20count%5Bi%5D%20%3D%3D%20maxCount%3A%0A%20%20%20%20%20%20%20%20%20%20%20%20start%20%3D%20i%0A%20%20%20%20%20%20%20%20%20%20%20%20end%20%3D%20i%20%2B%20kmer_size%0A%20%20%20%20%20%20%20%20%20%20%20%20Pattern%20%3D%20Text%5Bstart%3Aend%5D%0A%20%20%20%20%20%20%20%20%20%20%20%20FrequentPatterns.add%28Pattern%29%0A%20%20%20%20return%20FrequentPatterns%0A%0AFrequentWords%28%22ACGTTGCATGTCGCATGATGCATGAGAGCT%22,%204%29%0A&cumulative=false&curInstr=0&heapPrimitives=nevernest&mode=display&origin=opt-frontend.js&py=3&rawInputLstJSON=%5B%5D&textReferences=false"
   ]
  },
  {
   "cell_type": "code",
   "execution_count": 62,
   "metadata": {},
   "outputs": [],
   "source": [
    "# Problem 1C\n",
    "# Find the reverse complement of a DNA string\n",
    "# Input: a DNA string Pattern\n",
    "# Output: Pattern', the reverse complement of Pattern\n",
    "def ReverseComplement(Text):\n",
    "    Text = Text.upper()\n",
    "    reverse = reversed(Text)\n",
    "    complement = []\n",
    "    for ch in reverse:\n",
    "        if ch == \"A\":\n",
    "            complement.append(\"T\")\n",
    "        elif ch == \"T\":\n",
    "            complement.append(\"A\")\n",
    "        elif ch == \"C\":\n",
    "            complement.append(\"G\")\n",
    "        elif ch == \"G\":\n",
    "            complement.append(\"C\")\n",
    "        else:\n",
    "            print(\"THAT'S NOT DNA\")\n",
    "    \n",
    "    return \"\".join(complement)"
   ]
  },
  {
   "cell_type": "code",
   "execution_count": 67,
   "metadata": {},
   "outputs": [
    {
     "name": "stdout",
     "output_type": "stream",
     "text": [
      "CAkTx\n"
     ]
    }
   ],
   "source": [
    "print(ReverseComplement(\"ATG\"))"
   ]
  },
  {
   "cell_type": "code",
   "execution_count": 66,
   "metadata": {},
   "outputs": [],
   "source": [
    "def ReverseComplement(Text):\n",
    "    Text = Text.upper()\n",
    "    reverse = reversed(Text)\n",
    "    complement = []\n",
    "    translation = {\n",
    "        'A': 'T',\n",
    "        'T': 'A',\n",
    "        'C': 'G',\n",
    "        'G': 'C'\n",
    "    }\n",
    "    for ch in reverse:\n",
    "        complement.append(translation[ch])\n",
    "    \n",
    "    return \"\".join(complement)"
   ]
  },
  {
   "cell_type": "code",
   "execution_count": 35,
   "metadata": {},
   "outputs": [
    {
     "data": {
      "text/plain": [
       "'GTA'"
      ]
     },
     "execution_count": 35,
     "metadata": {},
     "output_type": "execute_result"
    }
   ],
   "source": [
    "txt = \"ATG\"\n",
    "reverse = txt[::-1]\n",
    "reverse"
   ]
  },
  {
   "cell_type": "code",
   "execution_count": 46,
   "metadata": {},
   "outputs": [
    {
     "data": {
      "text/plain": [
       "['G', 'T', 'A']"
      ]
     },
     "execution_count": 46,
     "metadata": {},
     "output_type": "execute_result"
    }
   ],
   "source": [
    "list(reversed(txt))"
   ]
  },
  {
   "cell_type": "markdown",
   "metadata": {},
   "source": [
    "## Problem 1D"
   ]
  },
  {
   "cell_type": "code",
   "execution_count": 9,
   "metadata": {},
   "outputs": [],
   "source": [
    "# Problem 1D\n",
    "# Find all occurrences of a pattern in a string.\n",
    "# Input: Strings Pattern and Genome\n",
    "# Output: All starting positions in Genome where \n",
    "# Pattern appears as a sub-string\n",
    "def PatternMatch(Text, Pattern):\n",
    "    overlap = len(Text) - len(Pattern) + 1\n",
    "    for i in range(overlap):\n",
    "        start = i\n",
    "        end = i + len(Pattern)\n",
    "        starts = []\n",
    "        if Text[start:end] == Pattern:\n",
    "            starts.append(start) \n",
    "    return(starts)\n",
    "\n",
    "# This solution does not work bc everytime I'm going through the for loop, \n",
    "# I'm overwriting the slots that were being kept. Move starts = [] outside\n",
    "# the for loop. \n",
    "\n",
    "def PatternMatch(Text, Pattern):\n",
    "    overlap = len(Text) - len(Pattern) + 1\n",
    "    starts = []\n",
    "    for i in range(overlap):\n",
    "        start = i\n",
    "        end = i + len(Pattern)\n",
    "        if Text[start:end] == Pattern:\n",
    "            starts.append(start) \n",
    "    return starts"
   ]
  },
  {
   "cell_type": "code",
   "execution_count": 7,
   "metadata": {},
   "outputs": [],
   "source": [
    "# Jessica's solution\n",
    "def PatternMatchCount(Text, Pattern):\n",
    "    # create an empty list to store pattern locs in text\n",
    "    match_spot = []\n",
    "    # define length to search over\n",
    "    overlap = len(Text) - len(Pattern) + 1\n",
    "    for i in range(overlap):\n",
    "        start = i\n",
    "        end = i + len(Pattern)\n",
    "        if Text[start:end] == Pattern:\n",
    "            match_spot.append(i)\n",
    "    return match_spot"
   ]
  },
  {
   "cell_type": "code",
   "execution_count": 10,
   "metadata": {},
   "outputs": [
    {
     "data": {
      "text/plain": [
       "[1, 3, 9]"
      ]
     },
     "execution_count": 10,
     "metadata": {},
     "output_type": "execute_result"
    }
   ],
   "source": [
    "PatternMatch(\"GATATATGCATATACTT\", \"ATAT\")"
   ]
  },
  {
   "cell_type": "code",
   "execution_count": 8,
   "metadata": {},
   "outputs": [
    {
     "data": {
      "text/plain": [
       "[1, 3, 9]"
      ]
     },
     "execution_count": 8,
     "metadata": {},
     "output_type": "execute_result"
    }
   ],
   "source": [
    "PatternMatchCount(\"GATATATGCATATACTT\", \"ATAT\")"
   ]
  },
  {
   "cell_type": "markdown",
   "metadata": {},
   "source": [
    "## Problem 1E"
   ]
  },
  {
   "cell_type": "code",
   "execution_count": 15,
   "metadata": {},
   "outputs": [],
   "source": [
    "# Problem 1E \n",
    "# Clump Finding Problem:\n",
    "# Find patterns forming clumps in a string\n",
    "# Input: A string Genome, and integers k, L, and t\n",
    "# Output: All distinct k-mers forming (L,t)-clumps in Genome\n",
    "# Genome -- large string. \n",
    "# t is number of times pattern occurs in genome. \n",
    "# L is length of a clump window. \n",
    "# k is kmer\n",
    "def FindClumps(genome, kmer_length, clump_length, times):\n",
    "    # define clump window length\n",
    "    clump_overlap = len(genome) - clump_length + 1 \n",
    "    # set kmer window inside of clump\n",
    "    kmer_overlap = clump_length - kmer_length + 1\n",
    "    # define a list to store kmers that occur more than times in a clump\n",
    "    keepers = set()\n",
    "    \n",
    "    for clump_index in range(clump_overlap):\n",
    "        # define the clump\n",
    "        clump_start = clump_index\n",
    "        clump_end = clump_index + clump_length\n",
    "        clump = genome[clump_start:clump_end] # remember: python slicing is non-inclusive!\n",
    "        # define dictionary to store kmer counts\n",
    "        kmer_counts = {}\n",
    "        \n",
    "        for kmer_index in range(kmer_overlap):\n",
    "            kmer_start = kmer_index\n",
    "            kmer_end = kmer_index + kmer_length\n",
    "            kmer = clump[kmer_start:kmer_end]\n",
    "            # try to access key in dict that's not there, get a key error\n",
    "            # so if statement to increment by one if it's there, \n",
    "            # and else add it with a value of 1. \n",
    "            if kmer in kmer_counts:\n",
    "                kmer_counts[kmer] = kmer_counts[kmer] + 1\n",
    "            else: \n",
    "                kmer_counts[kmer] = 1\n",
    "                \n",
    "        # check if kmers occur greater than times. If it does, keep it!\n",
    "        for kmer in kmer_counts:\n",
    "            if kmer_counts[kmer] >= times:\n",
    "                keepers.add(kmer)\n",
    "                \n",
    "    return keepers"
   ]
  },
  {
   "cell_type": "code",
   "execution_count": 16,
   "metadata": {},
   "outputs": [
    {
     "data": {
      "text/plain": [
       "{'AATGT', 'CGACA', 'GAAGA'}"
      ]
     },
     "execution_count": 16,
     "metadata": {},
     "output_type": "execute_result"
    }
   ],
   "source": [
    "FindClumps(genome = \"CGGACTCGACAGATGTGAAGAAATGTGAAGACTGAGTGAAGAGAAGAGGAAACACGACACGACATTGCGACATAATGTACGAATGTAATGTGCCTATGGC\", \n",
    "          kmer_length = 5, clump_length = 75, times = 4)"
   ]
  },
  {
   "cell_type": "markdown",
   "metadata": {},
   "source": [
    "## Problem 1F"
   ]
  },
  {
   "cell_type": "markdown",
   "metadata": {},
   "source": [
    "+ Find a position in a genome that minimizes the skew. \n",
    "+ Skew of a genome is the difference between Gs and Cs\n",
    "+ C mutates to a T via deamination\n",
    "+ Higher in single stranded, thus higher mutation rate in lagging strand because it spends more time as a single strand during replication. \n",
    "+ GC skew closer to Ori C?"
   ]
  },
  {
   "cell_type": "code",
   "execution_count": 1,
   "metadata": {},
   "outputs": [],
   "source": [
    "# Define the skew of a DNA string Genome, denoted Skew(Genome),\n",
    "# as the difference between the total number of occurrences of 'G'\n",
    "# and 'C' in Genome. Let Prefixi (Genome) deonte the prefix (i.e. initial\n",
    "# substring) of Genome of length i. For example, the values of\n",
    "# Skew(Prefixi(\"CATGGGCATCGGCCATACGCC\")) are:\n",
    "# 0 -1 -1 -1 0 1 2 1 1 1 0 1 2 1 0 0 0 0 -1 0 -1 2\n",
    "\n",
    "# Minimum Skew Problem\n",
    "# Find a position in a genome minimizing the skew\n",
    "# Given: A DNA string\n",
    "# Return: All integer(s) i minimizing Skew(Prefixi (Text)) over all values \n",
    "# of i (from 0 to |Genome|)"
   ]
  },
  {
   "cell_type": "code",
   "execution_count": 23,
   "metadata": {},
   "outputs": [],
   "source": [
    "def find_min_skew(genome):\n",
    "    skew = [0]\n",
    "    min_skew = 0\n",
    "    min_skews_pos = []\n",
    "    for i, base in enumerate(genome, 1): \n",
    "        # enumerate returns the position of the string as well as the string [0, C], [1, C] ...\n",
    "        # \", 1\" allows index position to start at a different number\n",
    "        \n",
    "        if base.upper() == 'G':\n",
    "            skew_val = skew[-1] + 1 # adds one to the last value\n",
    "            skew.append(skew_val) # add to the list the skew_val\n",
    "        elif base.upper() == \"C\":\n",
    "            skew_val = skew[-1] - 1\n",
    "            skew.append(skew_val)\n",
    "            # we want to return all pos of min skew\n",
    "            # if skew val is equal to current min skew,\n",
    "            # append it to a list of skew val pos\n",
    "            if skew_val == min_skew:\n",
    "                min_skew_pos.append(i)\n",
    "            # if there is a new min:\n",
    "            if skew_val < min_skew:\n",
    "                # reset the minimum if a new min is encountered\n",
    "                min_skew = skew_val \n",
    "                # find the index of the minimum value\n",
    "                # Use index from enumerate\n",
    "                min_skew_pos = [i] \n",
    "  \n",
    "        else:\n",
    "            skew_val = skew[-1]\n",
    "            skew.append(skew_val)\n",
    "            \n",
    "    return min_skew_pos, min_skew"
   ]
  },
  {
   "cell_type": "code",
   "execution_count": 24,
   "metadata": {},
   "outputs": [],
   "source": [
    "genome = 'CCTATCGGT'"
   ]
  },
  {
   "cell_type": "code",
   "execution_count": 25,
   "metadata": {},
   "outputs": [
    {
     "data": {
      "text/plain": [
       "([6], -3)"
      ]
     },
     "execution_count": 25,
     "metadata": {},
     "output_type": "execute_result"
    }
   ],
   "source": [
    "find_min_skew(genome)"
   ]
  },
  {
   "cell_type": "code",
   "execution_count": 28,
   "metadata": {},
   "outputs": [],
   "source": [
    "def find_min_skew(genome):\n",
    "    skew_val = 0 # don't keep as list, too mem intensive\n",
    "    min_skew = 0\n",
    "    min_skews_pos = []\n",
    "    for i, base in enumerate(genome, 1): \n",
    "        if base.upper() == 'G':\n",
    "            skew_val = skew_val + 1 \n",
    "        elif base.upper() == \"C\":\n",
    "            skew_val = skew_val - 1\n",
    "            if skew_val == min_skew:\n",
    "                min_skew_pos.append(i)\n",
    "            # if there is a new min:\n",
    "            if skew_val < min_skew:\n",
    "                # reset the minimum if a new min is encountered\n",
    "                min_skew = skew_val \n",
    "                # find the index of the minimum value\n",
    "                # Use index from enumerate\n",
    "                min_skew_pos = [i] \n",
    "        \n",
    "    return min_skew_pos, min_skew"
   ]
  },
  {
   "cell_type": "code",
   "execution_count": 29,
   "metadata": {},
   "outputs": [
    {
     "data": {
      "text/plain": [
       "([6], -3)"
      ]
     },
     "execution_count": 29,
     "metadata": {},
     "output_type": "execute_result"
    }
   ],
   "source": [
    "find_min_skew(genome)"
   ]
  },
  {
   "cell_type": "markdown",
   "metadata": {},
   "source": [
    "## Problem 1G"
   ]
  },
  {
   "cell_type": "markdown",
   "metadata": {},
   "source": [
    "We say that position i in k-mers pl ... pk and ql ... qk is a mismatch if pi \\= qi.\n",
    "For example, CGAAT and CGGAC have two mismatches.\n",
    "The number of mismatches between strings p and q is called the Hamming distance\n",
    "between these strings and is denoted HammingDistance(p, q)"
   ]
  },
  {
   "cell_type": "code",
   "execution_count": 30,
   "metadata": {},
   "outputs": [],
   "source": [
    "# Hamming distance problem\n",
    "# Compute the hamming distance between two DNA strings.\n",
    "# Given: two dna strings\n",
    "# Return: An integer value representing the Hamming Distance."
   ]
  },
  {
   "cell_type": "code",
   "execution_count": 41,
   "metadata": {},
   "outputs": [],
   "source": [
    "def HammingDist(patternA, patternB):\n",
    "    \"This function calculates the number of mismatches between two strings of equal length\"\n",
    "    # set number of mismatches to 0, convert input stirngs to list\n",
    "    number_mismatch = 0\n",
    "    assert len(patternA) == len(patternB), 'please input strings of equal length'\n",
    "    for i in range(len(patternA)):\n",
    "        if patternA[i] != patternB[i]:\n",
    "            number_mismatch += 1\n",
    "    return number_mismatch"
   ]
  },
  {
   "cell_type": "code",
   "execution_count": 42,
   "metadata": {},
   "outputs": [
    {
     "data": {
      "text/plain": [
       "1"
      ]
     },
     "execution_count": 42,
     "metadata": {},
     "output_type": "execute_result"
    }
   ],
   "source": [
    "HammingDist(\"ATC\", \"ATG\")"
   ]
  },
  {
   "cell_type": "markdown",
   "metadata": {},
   "source": [
    "## Problem 1H"
   ]
  },
  {
   "cell_type": "markdown",
   "metadata": {},
   "source": [
    "Approximate Pattern Matching Problem.   \n",
    "Given: Strings Pattern and Text along with an integer d.  \n",
    "Return: All starting positions where Pattern appears as a substring of Text wtih at most d mismatches"
   ]
  },
  {
   "cell_type": "code",
   "execution_count": 52,
   "metadata": {},
   "outputs": [],
   "source": [
    "def ApproxPattMatch(Pattern, Text, d):\n",
    "    '''\n",
    "    - This function returns the starting positions of a kmer\n",
    "    of interest within a DNA string. The kmer may have up to\n",
    "    d mismatches.\n",
    "    - Pattern: motif of interest\n",
    "    - Text: DNA string \n",
    "    - d: tolerated number of mismatches\n",
    "    '''\n",
    "    # define range of Text to work in\n",
    "    overlap = len(Text) - len(Pattern) + 1\n",
    "    matches = []\n",
    "    # define variables to calculate Hamming Distance\n",
    "    # for every position in overlap:\n",
    "    for i in range(overlap):\n",
    "        # start is the position in overlap we loop over\n",
    "        start = i\n",
    "        # end is the position in overlap + the length of pattern\n",
    "        end = i + len(Pattern)\n",
    "        # string2 is the subset of text we are working with\n",
    "        subset_Text = Text[start:end]\n",
    "        \n",
    "        # calculate Hamming Distance between two strings\n",
    "        # If there are fewer mismatches than d, append\n",
    "        if HammingDist(Pattern, subset_Text) <= d:\n",
    "            matches.append(i)\n",
    "        \n",
    "    return matches\n",
    "            "
   ]
  },
  {
   "cell_type": "code",
   "execution_count": 53,
   "metadata": {},
   "outputs": [
    {
     "data": {
      "text/plain": [
       "[6, 7, 26, 27, 66, 78]"
      ]
     },
     "execution_count": 53,
     "metadata": {},
     "output_type": "execute_result"
    }
   ],
   "source": [
    "ApproxPattMatch(\"ATTCTGGA\", \n",
    "                \"CGCCCGAATCCAGAAGCGATTCCCATATTTCGGGACCACTGGCCTCCACGGTACGGACGTCAATCAAATCGGTACGCCGTTGTGGTTTCTCCTA\", \n",
    "                3)"
   ]
  },
  {
   "cell_type": "code",
   "execution_count": null,
   "metadata": {},
   "outputs": [],
   "source": []
  },
  {
   "cell_type": "code",
   "execution_count": null,
   "metadata": {},
   "outputs": [],
   "source": []
  },
  {
   "cell_type": "code",
   "execution_count": null,
   "metadata": {},
   "outputs": [],
   "source": []
  }
 ],
 "metadata": {
  "kernelspec": {
   "display_name": "Python 3",
   "language": "python",
   "name": "python3"
  },
  "language_info": {
   "codemirror_mode": {
    "name": "ipython",
    "version": 3
   },
   "file_extension": ".py",
   "mimetype": "text/x-python",
   "name": "python",
   "nbconvert_exporter": "python",
   "pygments_lexer": "ipython3",
   "version": "3.6.8"
  }
 },
 "nbformat": 4,
 "nbformat_minor": 2
}
