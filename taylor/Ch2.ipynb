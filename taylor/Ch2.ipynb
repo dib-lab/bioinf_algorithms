{
 "cells": [
  {
   "cell_type": "markdown",
   "metadata": {},
   "source": [
    "# Chapter 2\n"
   ]
  },
  {
   "cell_type": "markdown",
   "metadata": {},
   "source": [
    "**Brute force algorithm for motif finding**  \n",
    "\n",
    "Given a collection of strings Dna and an integer d, a k-mer is a (k, d)-motif if it appears in every string from Dna with at most d mismatches. \n",
    "\n",
    "**Implanted motif problem**  \n",
    "Find all (k, d)-motifs in a collection of strings.  \n",
    "Input: A collection of strings Dna, and integers k and d.  \n",
    "Output: All (k,d)-motifs in Dna."
   ]
  },
  {
   "cell_type": "code",
   "execution_count": 14,
   "metadata": {},
   "outputs": [],
   "source": [
    "# from ch 1\n",
    "def HammingDist(patternA, patternB):\n",
    "    \"This function calculates the number of mismatches between two strings of equal length\"\n",
    "    # set number of mismatches to 0, convert input stirngs to list\n",
    "    number_mismatch = 0\n",
    "    assert len(patternA) == len(patternB), 'please input strings of equal length'\n",
    "    for i in range(len(patternA)):\n",
    "        if patternA[i] != patternB[i]:\n",
    "            number_mismatch += 1\n",
    "    return number_mismatch"
   ]
  },
  {
   "cell_type": "code",
   "execution_count": 11,
   "metadata": {},
   "outputs": [],
   "source": [
    "def ApproxPattMatch(Pattern, Text, d):\n",
    "    '''\n",
    "    - This function returns the starting positions of a kmer\n",
    "    of interest within a DNA string. The kmer may have up to\n",
    "    d mismatches. Indices are 0 based.\n",
    "    - Pattern: motif of interest\n",
    "    - Text: DNA string \n",
    "    - d: tolerated number of mismatches\n",
    "    '''\n",
    "    # define range of Text to work in\n",
    "    overlap = len(Text) - len(Pattern) + 1\n",
    "    matches = []\n",
    "    # define variables to calculate Hamming Distance\n",
    "    # for every position in overlap:\n",
    "    for i in range(overlap):\n",
    "        # start is the position in overlap we loop over\n",
    "        start = i\n",
    "        # end is the position in overlap + the length of pattern\n",
    "        end = i + len(Pattern)\n",
    "        # string2 is the subset of text we are working with\n",
    "        subset_Text = Text[start:end]\n",
    "        \n",
    "        # calculate Hamming Distance between two strings\n",
    "        # If there are fewer mismatches than d, append\n",
    "        if HammingDist(Pattern, subset_Text) <= d:\n",
    "            matches.append(i)\n",
    "        \n",
    "    return matches"
   ]
  },
  {
   "cell_type": "code",
   "execution_count": 25,
   "metadata": {},
   "outputs": [],
   "source": [
    "def MotifEnumerate(Dna, k, d):\n",
    "    '''\n",
    "    Dna: a list of DNA strings\n",
    "    k: k-mer motif\n",
    "    d: tolerated number of mismatches\n",
    "    '''\n",
    "    \n",
    "    Patterns = set()\n",
    "    # loop over the first DNA string in the list\n",
    "    # for Dna_string in Dna:\n",
    "    \n",
    "    # only need kmers that appear in the first DNA\n",
    "    # string, as each kmer must appear across all\n",
    "    # DNA strings?\n",
    "    \n",
    "    Dna_string1 = Dna[0]\n",
    "    overlap = len(Dna_string1) - k + 1\n",
    "    # get a kmer\n",
    "    for i in range(overlap):\n",
    "        start = i\n",
    "        end = i + k\n",
    "        kmer = Dna_string1[start:end]\n",
    "        for Dna_other in Dna:\n",
    "            print(kmer, \": \", Dna_other, ApproxPattMatch(Pattern = kmer, Text = Dna_other, d = d))\n"
   ]
  },
  {
   "cell_type": "code",
   "execution_count": 21,
   "metadata": {},
   "outputs": [],
   "source": [
    "DNA = ['TATCGA', 'ATGCA', 'ACGGT']"
   ]
  },
  {
   "cell_type": "code",
   "execution_count": 26,
   "metadata": {},
   "outputs": [
    {
     "name": "stdout",
     "output_type": "stream",
     "text": [
      "TAT :  TATCGA [0]\n",
      "TAT :  ATGCA []\n",
      "TAT :  ACGGT []\n",
      "ATC :  TATCGA [1]\n",
      "ATC :  ATGCA [0]\n",
      "ATC :  ACGGT []\n",
      "TCG :  TATCGA [2]\n",
      "TCG :  ATGCA []\n",
      "TCG :  ACGGT [0]\n",
      "CGA :  TATCGA [3]\n",
      "CGA :  ATGCA []\n",
      "CGA :  ACGGT [1]\n"
     ]
    }
   ],
   "source": [
    "MotifEnumerate(DNA, 3, 1)"
   ]
  },
  {
   "cell_type": "code",
   "execution_count": null,
   "metadata": {},
   "outputs": [],
   "source": []
  }
 ],
 "metadata": {
  "kernelspec": {
   "display_name": "Python 3",
   "language": "python",
   "name": "python3"
  },
  "language_info": {
   "codemirror_mode": {
    "name": "ipython",
    "version": 3
   },
   "file_extension": ".py",
   "mimetype": "text/x-python",
   "name": "python",
   "nbconvert_exporter": "python",
   "pygments_lexer": "ipython3",
   "version": "3.6.8"
  }
 },
 "nbformat": 4,
 "nbformat_minor": 2
}
