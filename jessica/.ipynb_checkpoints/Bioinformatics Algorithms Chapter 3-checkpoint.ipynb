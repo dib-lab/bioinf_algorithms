{
 "cells": [
  {
   "cell_type": "markdown",
   "metadata": {},
   "source": [
    "## Chapter 3"
   ]
  },
  {
   "cell_type": "markdown",
   "metadata": {},
   "source": [
    "#### Problem BA3A: Generate the k-mer Composition of a String\n",
    "http://rosalind.info/problems/ba3a/"
   ]
  },
  {
   "cell_type": "code",
   "execution_count": 1,
   "metadata": {},
   "outputs": [],
   "source": [
    "def GenKmerComp(k, text):\n",
    "    # create list to store kmers\n",
    "    unsorted_kmers = []\n",
    "    # define region to iterate through\n",
    "    for i in range (len(text) - k + 1):\n",
    "        # define kmer\n",
    "        kmer = text[i : i + k]\n",
    "        # add kmer to list\n",
    "        unsorted_kmers.append(kmer)\n",
    "    # sort list in lexicographic order\n",
    "    sorted_kmers = sorted(unsorted_kmers)\n",
    "    \n",
    "    return sorted_kmers\n",
    "    \n",
    "    # also can use .sort(), but doesn't return sorted list\n",
    "    # unsorted_kmers.sort()\n",
    "    # return unsorted_kmers\n",
    "\n",
    "assert(GenKmerComp(5, \"CAATCCAAC\") == ['AATCC', 'ATCCA', 'CAATC', 'CCAAC', 'TCCAA'])"
   ]
  },
  {
   "cell_type": "code",
   "execution_count": 2,
   "metadata": {},
   "outputs": [
    {
     "data": {
      "text/plain": [
       "['AATCC', 'ATCCA', 'CAATC', 'CCAAC', 'TCCAA']"
      ]
     },
     "execution_count": 2,
     "metadata": {},
     "output_type": "execute_result"
    }
   ],
   "source": [
    "GenKmerComp(5, \"CAATCCAAC\")"
   ]
  },
  {
   "cell_type": "markdown",
   "metadata": {},
   "source": [
    "#### Problem BA3B: Reconstruct a String from its Genome Path\n",
    "http://rosalind.info/problems/ba3b/"
   ]
  },
  {
   "cell_type": "code",
   "execution_count": 23,
   "metadata": {},
   "outputs": [],
   "source": [
    "def StringRecon(kmers):\n",
    "    \"Generates a string from genome path of kmers k - 1, kmers must be given in a list\"\n",
    "    # get length of string to generate\n",
    "    text = [kmers[0]]\n",
    "    # iterate through items in kmer list\n",
    "    for i in kmers[1:]:\n",
    "        # iterate through each base in kmer\n",
    "        text.append(i[-1])\n",
    "        \n",
    "    # convert list to string\n",
    "    joined = ''.join(text)\n",
    "    \n",
    "    return joined\n",
    "\n",
    "assert(StringRecon(['ACCGA', 'CCGAA', 'CGAAG', 'GAAGC', 'AAGCT']) == 'ACCGAAGCT')"
   ]
  },
  {
   "cell_type": "code",
   "execution_count": 24,
   "metadata": {},
   "outputs": [
    {
     "data": {
      "text/plain": [
       "'ACCGAAGCT'"
      ]
     },
     "execution_count": 24,
     "metadata": {},
     "output_type": "execute_result"
    }
   ],
   "source": [
    "StringRecon(['ACCGA', 'CCGAA', 'CGAAG', 'GAAGC', 'AAGCT'])"
   ]
  },
  {
   "cell_type": "markdown",
   "metadata": {},
   "source": [
    "#### Problem BA3C: Construct the Overlap Graph of a Collection of Kmers\n",
    "http://rosalind.info/problems/ba3c/"
   ]
  },
  {
   "cell_type": "code",
   "execution_count": 3,
   "metadata": {},
   "outputs": [],
   "source": [
    "def GeneratePrefix(kmers):\n",
    "    \"Generates the k-1 prefix and suffix of kmers\"\n",
    "    prefixes = {}\n",
    "    for kmer in kmers:\n",
    "        prefix = kmer[:-1]\n",
    "        prefixes[kmer] = prefix\n",
    "    \n",
    "    return prefixes"
   ]
  },
  {
   "cell_type": "code",
   "execution_count": 4,
   "metadata": {},
   "outputs": [],
   "source": [
    "def GenerateSuffix(kmers):\n",
    "    \"Generates the k-1 prefix and suffix of kmers\"\n",
    "    suffixes = {}\n",
    "    for kmer in kmers:\n",
    "        suffix = kmer[1:]\n",
    "        suffixes[kmer] = suffix\n",
    "    \n",
    "    return suffixes"
   ]
  },
  {
   "cell_type": "code",
   "execution_count": 5,
   "metadata": {},
   "outputs": [],
   "source": [
    "def OverlapGraph(kmers):\n",
    "    \"Creates overlap graph and returns matches in an adjanecy list\"\n",
    "    # create prefixes and suffixes\n",
    "    prefix_dict = GeneratePrefix(kmers)\n",
    "    suffixes_dict = GenerateSuffix(kmers)\n",
    "    \n",
    "    matches = []\n",
    "    \n",
    "    for key_p, value_p in prefix_dict.items():\n",
    "    \n",
    "        # check if value of prefixes equals value of suffixes\n",
    "        for key_s, value_s in suffixes_dict.items():\n",
    "             if value_p == value_s:\n",
    "                match_pair = (key_s, key_p)\n",
    "                matches.append(match_pair)\n",
    "                \n",
    "    return matches"
   ]
  },
  {
   "cell_type": "code",
   "execution_count": 6,
   "metadata": {},
   "outputs": [
    {
     "data": {
      "text/plain": [
       "[('CATGC', 'ATGCG'),\n",
       " ('GGCAT', 'GCATG'),\n",
       " ('GCATG', 'CATGC'),\n",
       " ('AGGCA', 'GGCAT')]"
      ]
     },
     "execution_count": 6,
     "metadata": {},
     "output_type": "execute_result"
    }
   ],
   "source": [
    "OverlapGraph(['ATGCG', 'GCATG', 'CATGC', 'AGGCA', 'GGCAT'])"
   ]
  },
  {
   "cell_type": "code",
   "execution_count": null,
   "metadata": {},
   "outputs": [],
   "source": []
  }
 ],
 "metadata": {
  "kernelspec": {
   "display_name": "Python 3",
   "language": "python",
   "name": "python3"
  },
  "language_info": {
   "codemirror_mode": {
    "name": "ipython",
    "version": 3
   },
   "file_extension": ".py",
   "mimetype": "text/x-python",
   "name": "python",
   "nbconvert_exporter": "python",
   "pygments_lexer": "ipython3",
   "version": "3.7.1"
  }
 },
 "nbformat": 4,
 "nbformat_minor": 2
}
