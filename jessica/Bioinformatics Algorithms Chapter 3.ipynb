{
 "cells": [
  {
   "cell_type": "markdown",
   "metadata": {},
   "source": [
    "## Chapter 3"
   ]
  },
  {
   "cell_type": "markdown",
   "metadata": {},
   "source": [
    "#### Problem BA3A: Generate the k-mer Composition of a String\n",
    "http://rosalind.info/problems/ba3a/"
   ]
  },
  {
   "cell_type": "code",
   "execution_count": 14,
   "metadata": {},
   "outputs": [],
   "source": [
    "def GenKmerComp(k, text):\n",
    "    # create list to store kmers\n",
    "    unsorted_kmers = []\n",
    "    # define region to iterate through\n",
    "    for i in range (len(text) - k + 1):\n",
    "        # define kmer\n",
    "        kmer = text[i : i + k]\n",
    "        # add kmer to dictionary\n",
    "        unsorted_kmers.append(kmer)\n",
    "    # sort list in lexicographic order\n",
    "    sorted_kmers = sorted(unsorted_kmers)\n",
    "\n",
    "    return sorted_kmers\n",
    "\n",
    "assert(GenKmerComp(5, \"CAATCCAAC\") == ['AATCC', 'ATCCA', 'CAATC', 'CCAAC', 'TCCAA'])"
   ]
  },
  {
   "cell_type": "code",
   "execution_count": 15,
   "metadata": {},
   "outputs": [
    {
     "data": {
      "text/plain": [
       "['AATCC', 'ATCCA', 'CAATC', 'CCAAC', 'TCCAA']"
      ]
     },
     "execution_count": 15,
     "metadata": {},
     "output_type": "execute_result"
    }
   ],
   "source": [
    "GenKmerComp(5, \"CAATCCAAC\")"
   ]
  },
  {
   "cell_type": "code",
   "execution_count": null,
   "metadata": {},
   "outputs": [],
   "source": []
  }
 ],
 "metadata": {
  "kernelspec": {
   "display_name": "Python 3",
   "language": "python",
   "name": "python3"
  },
  "language_info": {
   "codemirror_mode": {
    "name": "ipython",
    "version": 3
   },
   "file_extension": ".py",
   "mimetype": "text/x-python",
   "name": "python",
   "nbconvert_exporter": "python",
   "pygments_lexer": "ipython3",
   "version": "3.7.1"
  }
 },
 "nbformat": 4,
 "nbformat_minor": 2
}
