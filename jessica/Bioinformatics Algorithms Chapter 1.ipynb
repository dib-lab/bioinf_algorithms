{
 "cells": [
  {
   "cell_type": "markdown",
   "metadata": {},
   "source": [
    "#### Problem BA1A: Compute the Number of Times a Pattern Appears in a Text\n",
    "http://rosalind.info/problems/ba1a/"
   ]
  },
  {
   "cell_type": "code",
   "execution_count": 10,
   "metadata": {},
   "outputs": [],
   "source": [
    "def PatternCount(Text, Pattern):\n",
    "    count = 0\n",
    "    overlap = len(Text) - len(Pattern) + 1\n",
    "    for i in range(overlap):\n",
    "        start = i\n",
    "        end = i + len(Pattern)\n",
    "        if Text[start:end] == Pattern:\n",
    "            count += 1\n",
    "    return count"
   ]
  },
  {
   "cell_type": "code",
   "execution_count": 2,
   "metadata": {},
   "outputs": [
    {
     "data": {
      "text/plain": [
       "2"
      ]
     },
     "execution_count": 2,
     "metadata": {},
     "output_type": "execute_result"
    }
   ],
   "source": [
    "PatternCount(\"GCGCG\",\"GCG\")"
   ]
  },
  {
   "cell_type": "markdown",
   "metadata": {},
   "source": [
    "#### Problem BA1B: Find the Most Frequent Words in a String\n",
    "http://rosalind.info/problems/ba1b/"
   ]
  },
  {
   "cell_type": "code",
   "execution_count": 13,
   "metadata": {},
   "outputs": [],
   "source": [
    "# from ba1a.py import PatternCount\n",
    "# uncomment when splitting into scripts\n",
    "\n",
    "def FrequentWords(Text, k):\n",
    "    frequent_patterns = set()\n",
    "    count = {}\n",
    "    \n",
    "    # iterate through DNA Text and count kmers\n",
    "    for i in range(len(Text) - k):\n",
    "        pattern = Text[i : i + k]\n",
    "        # add pattern to dictionary\n",
    "        # key is i, start position of kmer\n",
    "        # value is count, using PatternCount function from 1A\n",
    "        count[i] = PatternCount(Text, pattern)\n",
    "        \n",
    "        # find maximum count value in dictionary\n",
    "        max_count = max(count.values())\n",
    "        \n",
    "    # iterate through Text again, if count at that position is max count, slice that kmer and add to set\n",
    "    for position in range(len(Text) - k):\n",
    "        if count[position] == max_count:\n",
    "            frequent_patterns.add(Text[position : position + k])\n",
    "            \n",
    "    return frequent_patterns"
   ]
  },
  {
   "cell_type": "code",
   "execution_count": 14,
   "metadata": {},
   "outputs": [
    {
     "data": {
      "text/plain": [
       "{'CATG', 'GCAT'}"
      ]
     },
     "execution_count": 14,
     "metadata": {},
     "output_type": "execute_result"
    }
   ],
   "source": [
    "FrequentWords(\"ACGTTGCATGTCGCATGATGCATGAGAGCT\", 4)"
   ]
  },
  {
   "cell_type": "markdown",
   "metadata": {},
   "source": [
    "#### Problem BA1C: Find the Reverse Complement of a String\n",
    "http://rosalind.info/problems/ba1c/"
   ]
  },
  {
   "cell_type": "code",
   "execution_count": 47,
   "metadata": {},
   "outputs": [],
   "source": [
    "def ReverseComplement(Text):\n",
    "    complement = []\n",
    "    for i in Text:\n",
    "        if i == \"A\":\n",
    "            complement.append(\"T\")\n",
    "        elif i == \"T\":\n",
    "            complement.append(\"A\")\n",
    "        elif i == \"G\":\n",
    "            complement.append(\"C\")\n",
    "        elif i == \"C\":\n",
    "            complement.append(\"G\")\n",
    "        else:\n",
    "            print(\"Not ACTG!\")\n",
    "    \n",
    "    reverse_complement = list(reversed(complement))\n",
    "    \n",
    "    return \"\".join(reverse_complement)"
   ]
  },
  {
   "cell_type": "code",
   "execution_count": 48,
   "metadata": {},
   "outputs": [
    {
     "data": {
      "text/plain": [
       "'ACCGGGTTTT'"
      ]
     },
     "execution_count": 48,
     "metadata": {},
     "output_type": "execute_result"
    }
   ],
   "source": [
    "ReverseComplement(\"AAAACCCGGT\")"
   ]
  },
  {
   "cell_type": "markdown",
   "metadata": {},
   "source": [
    "#### Problem BA1D: Find All Occurances of a Pattern in a String\n",
    "http://rosalind.info/problems/ba1d/"
   ]
  },
  {
   "cell_type": "code",
   "execution_count": 71,
   "metadata": {},
   "outputs": [],
   "source": [
    "def LocatePatternMatch(Pattern, Genome):\n",
    "    match_spot = []\n",
    "    for i in range(len(Genome) - len(Pattern) + 1):\n",
    "        if Genome[i : i + len(Pattern)] == Pattern:\n",
    "            match_spot.append(i)\n",
    "    return match_spot"
   ]
  },
  {
   "cell_type": "code",
   "execution_count": 72,
   "metadata": {},
   "outputs": [
    {
     "data": {
      "text/plain": [
       "[1, 3, 9]"
      ]
     },
     "execution_count": 72,
     "metadata": {},
     "output_type": "execute_result"
    }
   ],
   "source": [
    "LocatePatternMatch(\"ATAT\", \"GATATATGCATATACTT\")"
   ]
  },
  {
   "cell_type": "markdown",
   "metadata": {},
   "source": [
    "#### Problem BA1E: Find Clumps in a String\n",
    "http://rosalind.info/problems/ba1e/"
   ]
  },
  {
   "cell_type": "code",
   "execution_count": 1,
   "metadata": {},
   "outputs": [],
   "source": [
    "def FindClumps(Genome, kmer_length, clump_length, times):\n",
    "    # define length to search within\n",
    "    clump_overlap = len(Genome) - clump_length + 1\n",
    "    # kmer_overlap is looking within clump\n",
    "    kmer_overlap = clump_length - kmer_length + 1\n",
    "    # define kmers greater than times\n",
    "    keepers = set()\n",
    "    for clump_index in range(clump_overlap):\n",
    "        # define clump window\n",
    "        clump_start = clump_index\n",
    "        clump_end = clump_index + clump_length\n",
    "        clump = Genome[clump_start:clump_end]\n",
    "        # define dictionary of kmers\n",
    "        kmer_counts = {}\n",
    "        for kmer_index in range(kmer_overlap):\n",
    "            kmer_start = kmer_index\n",
    "            kmer_end = kmer_index + kmer_length\n",
    "            kmer = clump[kmer_start:kmer_end]\n",
    "            if kmer in kmer_counts:\n",
    "                # if kmer in dictionary, add count, +=\n",
    "                kmer_counts[kmer] += 1\n",
    "            else:\n",
    "                # if kmer not in dictionary, add it\n",
    "                kmer_counts[kmer] = 1\n",
    "        # check if kmers occur greater than times\n",
    "        for kmer in kmer_counts:\n",
    "            if kmer_counts[kmer] >= times:\n",
    "                keepers.add(kmer)\n",
    "    return keepers"
   ]
  },
  {
   "cell_type": "code",
   "execution_count": 2,
   "metadata": {},
   "outputs": [
    {
     "data": {
      "text/plain": [
       "{'AATGT', 'CGACA', 'GAAGA'}"
      ]
     },
     "execution_count": 2,
     "metadata": {},
     "output_type": "execute_result"
    }
   ],
   "source": [
    "FindClumps(\"CGGACTCGACAGATGTGAAGAAATGTGAAGACTGAGTGAAGAGAAGAGGAAACACGACACGACATTGCGACATAATGTACGAATGTAATGTGCCTATGGC\", \n",
    "5, 75, 4)"
   ]
  },
  {
   "cell_type": "markdown",
   "metadata": {},
   "source": [
    "#### Problem BA1F: Find Position in Genome to Minimize Skew\n",
    "http://rosalind.info/problems/ba1f/"
   ]
  },
  {
   "cell_type": "code",
   "execution_count": 16,
   "metadata": {},
   "outputs": [],
   "source": [
    "def MinimizeSkew(genome):\n",
    "    skew_value = 0\n",
    "    min_skew_value = 0\n",
    "    skew_position = []\n",
    "    # enumerate (genome, 1) means enumeration starts at 1 instead of 0\n",
    "    for i, base in enumerate(genome, 1):\n",
    "        if base.upper() == 'G':\n",
    "            skew_value = skew_value + 1\n",
    "        elif base.upper() == 'C':\n",
    "            skew_value = skew_value - 1\n",
    "        # C will cause decrease in value, check for new min\n",
    "            if skew_value == min_skew_value:\n",
    "                skew_position.append(i)\n",
    "            elif skew_value < min_skew_value:\n",
    "                min_skew_value = skew_value\n",
    "                # recreate skew_position list if new min vale\n",
    "                skew_position = [i]\n",
    "    return skew_position"
   ]
  },
  {
   "cell_type": "code",
   "execution_count": 17,
   "metadata": {},
   "outputs": [
    {
     "data": {
      "text/plain": [
       "[53, 97]"
      ]
     },
     "execution_count": 17,
     "metadata": {},
     "output_type": "execute_result"
    }
   ],
   "source": [
    "MinimizeSkew(\"CCTATCGGTGGATTAGCATGTCCCTGTACGTTTCGCCGCGAACTAGTTCACACGGCTTGATGGCAAATGGTTTTTCCGGCGACCGTAATCGTCCACCGAG\")"
   ]
  },
  {
   "cell_type": "markdown",
   "metadata": {},
   "source": [
    "#### Problem BA1G: Compute Hamming Distance Between Two Strings\n",
    "http://rosalind.info/problems/ba1g/"
   ]
  },
  {
   "cell_type": "code",
   "execution_count": 10,
   "metadata": {},
   "outputs": [],
   "source": [
    "def HammingDistance(string1, string2):\n",
    "    \n",
    "    \"This function calculates the Hamming Distance between two strings of equal length.\"\n",
    "    \n",
    "    # check if strings are the same length\n",
    "    # alternate: assert len(string1) == len(string2), \"Strings must be same length!\"\n",
    "    if len(string1) != len(string2):\n",
    "        print(\"Strings must be the same length!\")\n",
    "        \n",
    "    number_mismatches = 0\n",
    "    string_length = len(string1)\n",
    "    for i in range(string_length):\n",
    "        if string1[i] != string2[i]:\n",
    "            number_mismatches += 1\n",
    "    return number_mismatches"
   ]
  },
  {
   "cell_type": "code",
   "execution_count": 20,
   "metadata": {},
   "outputs": [
    {
     "data": {
      "text/plain": [
       "3"
      ]
     },
     "execution_count": 20,
     "metadata": {},
     "output_type": "execute_result"
    }
   ],
   "source": [
    "HammingDistance(\"GGGCCGTTGGT\", \"GGACCGTTGAC\")"
   ]
  },
  {
   "cell_type": "markdown",
   "metadata": {},
   "source": [
    "#### Problem BA1H: Find All Approximate Occurances of a Pattern in a String\n",
    "http://rosalind.info/problems/ba1h/"
   ]
  },
  {
   "cell_type": "code",
   "execution_count": 7,
   "metadata": {},
   "outputs": [],
   "source": [
    "# from ba1g.py import HammingDistance\n",
    "\n",
    "def ApproxPatternMatch(Pattern, Text, d):\n",
    "    matches = []\n",
    "    for i in range(len(Text) - len(Pattern) + 1):\n",
    "        if HammingDistance(Text[i : i + len(Pattern)], Pattern) <= d:\n",
    "            matches.append(i)\n",
    "    return matches"
   ]
  },
  {
   "cell_type": "code",
   "execution_count": 35,
   "metadata": {},
   "outputs": [
    {
     "data": {
      "text/plain": [
       "[6, 7, 26, 27, 78]"
      ]
     },
     "execution_count": 35,
     "metadata": {},
     "output_type": "execute_result"
    }
   ],
   "source": [
    "ApproxPatternMatch(\"ATTCTGGA\", \"CGCCCGAATCCAGAACGCATTCCCATATTTCGGGACCACTGGCCTCCACGGTACGGACGTCAATCAAATGCCTAGCGGCTTGTGGTTTCTCCTACGCTCC\", 3)"
   ]
  },
  {
   "cell_type": "markdown",
   "metadata": {},
   "source": [
    "#### Problem BA1I: Find the Most Frequent Mismatches in a String\n",
    "http://rosalind.info/problems/ba1i/"
   ]
  },
  {
   "cell_type": "code",
   "execution_count": 58,
   "metadata": {},
   "outputs": [],
   "source": [
    "# from ba1g.py import HammingDistance\n",
    "\n",
    "def HammingDistance(string1, string2):\n",
    "    \n",
    "    \"This function calculates the Hamming Distance between two strings of equal length.\"\n",
    "    \n",
    "    # check if strings are the same length\n",
    "    # alternate: assert len(string1) == len(string2), \"Strings must be same length!\"\n",
    "    if len(string1) != len(string2):\n",
    "        print(\"Strings must be the same length!\")\n",
    "        \n",
    "    number_mismatches = 0\n",
    "    string_length = len(string1)\n",
    "    for i in range(string_length):\n",
    "        if string1[i] != string2[i]:\n",
    "            number_mismatches += 1\n",
    "    return number_mismatches\n",
    "\n",
    "def GenerateMismatchedKmers(kmer, h_dist):\n",
    "    mismatched_list = []\n",
    "    if h_dist == 0:\n",
    "        return [kmer]\n",
    "    elif len(kmer) == 1:\n",
    "        return [\"A\", \"C\", \"G\", \"T\"]\n",
    "    \n",
    "    # generate neighbor mismatches\n",
    "    for neighbor in GenerateMismatchedKmers(kmer[1:], h_dist):\n",
    "        if HammingDistance(kmer[1:], neighbor) < h_dist:\n",
    "            mismatched_list += [\"A\" + neighbor, \"C\" + neighbor, \"G\" + neighbor, \"T\" + neighbor]\n",
    "        else:\n",
    "            mismatched_list += [kmer[0] + neighbor]\n",
    "    return mismatched_list\n",
    "\n",
    "def FindFrequentMismatchWords(Text, k, d):\n",
    "    kmerDictionary = {}\n",
    "    for start in range(len(Text) - k + 1):\n",
    "        kmer = Text[start : start + k]\n",
    "        # Call GenerateMismatchedKmers with kmer , Hamming Distance value\n",
    "        mismatched_kmers = GenerateMismatchedKmers(kmer, d)\n",
    "        for km in mismatched_kmers: \n",
    "            if km in kmerDictionary:\n",
    "                kmerDictionary[km] += 1\n",
    "            else:\n",
    "                kmerDictionary[km] = 1\n",
    "    maxCount = max(kmerDictionary.values())\n",
    "    frequent_kmers = []\n",
    "    # iterate through dictionary for kmer(s) with count equal to maxCount\n",
    "    for kmer, count in kmerDictionary.items():\n",
    "        if count == maxCount:\n",
    "            frequent_kmers.append(kmer)\n",
    "    return frequent_kmers"
   ]
  },
  {
   "cell_type": "code",
   "execution_count": 59,
   "metadata": {},
   "outputs": [
    {
     "data": {
      "text/plain": [
       "['ATGC', 'ATGT', 'GATG']"
      ]
     },
     "execution_count": 59,
     "metadata": {},
     "output_type": "execute_result"
    }
   ],
   "source": [
    "FindFrequentMismatchWords(\"ACGTTGCATGTCGCATGATGCATGAGAGCT\", 4, 1)"
   ]
  },
  {
   "cell_type": "markdown",
   "metadata": {},
   "source": [
    "#### Problem BA1J: Finding the Most Frequent Mismatches in String and its Complement\n",
    "http://rosalind.info/problems/ba1j/"
   ]
  },
  {
   "cell_type": "code",
   "execution_count": 2,
   "metadata": {},
   "outputs": [],
   "source": [
    "# from ba1c.py import ReverseComplement\n",
    "# from ba1g.py import HammingDistance\n",
    "\n",
    "def ReverseComplement(Text):\n",
    "    complement = []\n",
    "    for i in Text:\n",
    "        if i == \"A\":\n",
    "            complement.append(\"T\")\n",
    "        elif i == \"T\":\n",
    "            complement.append(\"A\")\n",
    "        elif i == \"G\":\n",
    "            complement.append(\"C\")\n",
    "        elif i == \"C\":\n",
    "            complement.append(\"G\")\n",
    "        else:\n",
    "            print(\"Not ACTG!\")\n",
    "            \n",
    "    reverse_complement = list(reversed(complement))\n",
    "    return \"\".join(reverse_complement)\n",
    "\n",
    "def HammingDistance(string1, string2):\n",
    "    \n",
    "    \"This function calculates the Hamming Distance between two strings of equal length.\"\n",
    "    \n",
    "    # check if strings are the same length\n",
    "    # alternate: assert len(string1) == len(string2), \"Strings must be same length!\"\n",
    "    if len(string1) != len(string2):\n",
    "        print(\"Strings must be the same length!\")\n",
    "        \n",
    "    number_mismatches = 0\n",
    "    string_length = len(string1)\n",
    "    for i in range(string_length):\n",
    "        if string1[i] != string2[i]:\n",
    "            number_mismatches += 1\n",
    "    return number_mismatches\n",
    "\n",
    "def GenerateMismatchedKmers(kmer, h_dist):\n",
    "    mismatched_list = []\n",
    "    if h_dist == 0:\n",
    "        return [kmer]\n",
    "    elif len(kmer) == 1:\n",
    "        return [\"A\", \"C\", \"G\", \"T\"]\n",
    "    \n",
    "    # generate neighbor mismatches\n",
    "    for neighbor in GenerateMismatchedKmers(kmer[1:], h_dist):\n",
    "        if HammingDistance(kmer[1:], neighbor) < h_dist:\n",
    "            mismatched_list += [\"A\" + neighbor, \"C\" + neighbor, \"G\" + neighbor, \"T\" + neighbor]\n",
    "        else:\n",
    "            mismatched_list += [kmer[0] + neighbor]\n",
    "    return mismatched_list\n",
    "\n",
    "def FindFrequentMismatchWordsComplement(Text, k, d):\n",
    "    kmerDictionary = {}\n",
    "    for start in range(len(Text) - k + 1):\n",
    "        kmer = Text[start : start + k]\n",
    "        # make rev kmer\n",
    "        reversed_kmer = ReverseComplement(kmer)\n",
    "        # Call GenerateMismatchedKmers with kmer , Hamming Distance value\n",
    "        mismatched_kmers = GenerateMismatchedKmers(kmer, d)\n",
    "        # extend mismatched kmers to include rev possible kmers\n",
    "        mismatched_kmers.extend(GenerateMismatchedKmers(reversed_kmer, d))\n",
    "        for km in mismatched_kmers: \n",
    "            if km in kmerDictionary:\n",
    "                kmerDictionary[km] += 1\n",
    "            else:\n",
    "                kmerDictionary[km] = 1\n",
    "    maxCount = max(kmerDictionary.values())\n",
    "    frequent_kmers = []\n",
    "    # iterate through dictionary for kmer(s) with count equal to maxCount\n",
    "    for kmer, count in kmerDictionary.items():\n",
    "        if count == maxCount:\n",
    "            frequent_kmers.append(kmer)\n",
    "    return frequent_kmers"
   ]
  },
  {
   "cell_type": "code",
   "execution_count": 3,
   "metadata": {},
   "outputs": [
    {
     "data": {
      "text/plain": [
       "['ACAT', 'ATGT']"
      ]
     },
     "execution_count": 3,
     "metadata": {},
     "output_type": "execute_result"
    }
   ],
   "source": [
    "FindFrequentMismatchWordsComplement(\"ACGTTGCATGTCGCATGATGCATGAGAGCT\", 4, 1)"
   ]
  },
  {
   "cell_type": "code",
   "execution_count": null,
   "metadata": {},
   "outputs": [],
   "source": []
  }
 ],
 "metadata": {
  "kernelspec": {
   "display_name": "Python 3",
   "language": "python",
   "name": "python3"
  },
  "language_info": {
   "codemirror_mode": {
    "name": "ipython",
    "version": 3
   },
   "file_extension": ".py",
   "mimetype": "text/x-python",
   "name": "python",
   "nbconvert_exporter": "python",
   "pygments_lexer": "ipython3",
   "version": "3.5.2"
  }
 },
 "nbformat": 4,
 "nbformat_minor": 2
}
