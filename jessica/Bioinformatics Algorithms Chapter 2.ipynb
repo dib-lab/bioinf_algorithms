{
 "cells": [
  {
   "cell_type": "markdown",
   "metadata": {},
   "source": [
    "#### Problem BA2A: Motif Enumeration\n",
    "http://rosalind.info/problems/ba2a/"
   ]
  },
  {
   "cell_type": "code",
   "execution_count": 40,
   "metadata": {},
   "outputs": [],
   "source": [
    "# from ba1g.py import HammingDistance\n",
    "# from ba1j.py import CreateKmers\n",
    "\n",
    "def HammingDistance(string1, string2):\n",
    "    \n",
    "    \"This function calculates the Hamming Distance between two strings of equal length.\"\n",
    "    \n",
    "    # check if strings are the same length\n",
    "    # alternate: assert len(string1) == len(string2), \"Strings must be same length!\"\n",
    "    if len(string1) != len(string2):\n",
    "        print(\"Strings must be the same length!\")\n",
    "        \n",
    "    number_mismatches = 0\n",
    "    string_length = len(string1)\n",
    "    for i in range(string_length):\n",
    "        if string1[i] != string2[i]:\n",
    "            number_mismatches += 1\n",
    "    return number_mismatches\n",
    "\n",
    "def CreateKmers(kmer, d):\n",
    "    \"This function creates all possible kmers in the string Dna of length k\"\n",
    "    new_kmers = []\n",
    "    if d == 0:\n",
    "        # why is this in brackets\n",
    "        return [kmer]\n",
    "    elif len(kmer) == 1:\n",
    "        return ['A', 'G', 'C', 'T']\n",
    "    # generate mismatches\n",
    "    for neighbor in CreateKmers(kmer[1:], d):\n",
    "        if HammingDistance(kmer[1:], neighbor) < d:\n",
    "            new_kmers += ['A' + neighbor, 'C' + neighbor, 'G' + neighbor, 'T' + neighbor]\n",
    "        else:\n",
    "            new_kmers += [kmer[0] + neighbor]\n",
    "    return new_kmers\n",
    "\n",
    "def MotifEnumeration(k, d, Dna):\n",
    "    patterns = set()\n",
    "    first_DNA_string = Dna[0]\n",
    "    \n",
    "    # generate all possible kmers from first loop\n",
    "    for i in range(len(first_DNA_string) - k + 1):\n",
    "        kmer = first_DNA_string[i : i + k]\n",
    "        for new_kmers in CreateKmers(kmer, d):\n",
    "            patterns.add(new_kmers)\n",
    "    \n",
    "    # compare first_kmers with kmers in subsequent strings\n",
    "    for dna in Dna[1:]:\n",
    "        current_kmers = set()\n",
    "        \n",
    "        for p in range(len(dna) - k + 1):\n",
    "            for pattern_p in patterns:\n",
    "                if HammingDistance(dna[p : p + k], pattern_p) <= d:\n",
    "                    current_kmers.add(pattern_p)\n",
    "    \n",
    "        patterns = patterns.intersection(current_kmers)\n",
    "    return patterns"
   ]
  },
  {
   "cell_type": "code",
   "execution_count": 41,
   "metadata": {},
   "outputs": [
    {
     "data": {
      "text/plain": [
       "{'ATA', 'ATT', 'GTT', 'TTT'}"
      ]
     },
     "execution_count": 41,
     "metadata": {},
     "output_type": "execute_result"
    }
   ],
   "source": [
    "MotifEnumeration(3, 1, [\"ATTTGGC\", \"TGCCTTA\", \"CGGTATC\", \"GAAAATT\"])"
   ]
  },
  {
   "cell_type": "markdown",
   "metadata": {},
   "source": [
    "#### Problem BA2B: Find a Median String\n",
    "http://rosalind.info/problems/ba2b/"
   ]
  },
  {
   "cell_type": "code",
   "execution_count": 63,
   "metadata": {},
   "outputs": [],
   "source": [
    "from itertools import product\n",
    "import sys\n",
    "\n",
    "# from ba1g.py import HammingDistance\n",
    "\n",
    "def HammingDistance(string1, string2):\n",
    "    \n",
    "    \"This function calculates the Hamming Distance between two strings of equal length.\"\n",
    "    \n",
    "    # check if strings are the same length\n",
    "    # alternate: assert len(string1) == len(string2), \"Strings must be same length!\"\n",
    "    if len(string1) != len(string2):\n",
    "        print(\"Strings must be the same length!\")\n",
    "        \n",
    "    number_mismatches = 0\n",
    "    string_length = len(string1)\n",
    "    for i in range(string_length):\n",
    "        if string1[i] != string2[i]:\n",
    "            number_mismatches += 1\n",
    "    return number_mismatches\n",
    "\n",
    "def Distance(pattern, Dna):\n",
    "    \"This function finds the summed distances of a kmer pattern over multiple DNA strings\"\n",
    "    distances = []\n",
    "    k = len(pattern)\n",
    "    for Dna_line in Dna:\n",
    "        # set current_min to large number\n",
    "        current_min = sys.maxsize\n",
    "        for i in range(len(Dna_line) - k + 1):\n",
    "            # find minimum between current min and the HammingDistance of the pattern and slice of Dna_line\n",
    "            current_min = min(HammingDistance(pattern, Dna_line[i : i + k]), current_min)\n",
    "        distances.append(current_min)\n",
    "    \n",
    "    # return the sum of distances for each line for given kmer\n",
    "    return sum(distances)\n",
    "\n",
    "def FindMedianString(k, Dna):\n",
    "    # set distance value to high number\n",
    "    distance = sys.maxsize\n",
    "    # generate all possible kmers of length k, iterate through all to find distance sum\n",
    "    for pattern in product(\"ACGT\", repeat = k):\n",
    "        # join output of product (a list) into string\n",
    "        pattern = \"\".join(pattern)\n",
    "        # check distances for each pattern with distance function\n",
    "        d = Distance(pattern, Dna)\n",
    "        # compare each kmer and if it has a smaller distance sum than current value, redefine variables\n",
    "        if d < distance:\n",
    "            distance = d\n",
    "            median = pattern\n",
    "    return median"
   ]
  },
  {
   "cell_type": "code",
   "execution_count": 64,
   "metadata": {},
   "outputs": [
    {
     "data": {
      "text/plain": [
       "'ACG'"
      ]
     },
     "execution_count": 64,
     "metadata": {},
     "output_type": "execute_result"
    }
   ],
   "source": [
    "FindMedianString(3, [\"AAATTGACGCAT\", \"GACGACCACGTT\", \"CGTCAGCGCCTG\", \"GCTGAGCACCGG\", \"AGTACGGGACAG\"])"
   ]
  },
  {
   "cell_type": "markdown",
   "metadata": {},
   "source": [
    "#### Problem BA2C: Find Profile-most Probable kmer in a String\n",
    "http://rosalind.info/problems/ba2c/"
   ]
  },
  {
   "cell_type": "code",
   "execution_count": 72,
   "metadata": {},
   "outputs": [],
   "source": [
    "def ProfileMostProbable(Dna, k, Profile):\n",
    "    kmer_probability_max = 0\n",
    "    max_kmer = \"\"\n",
    "    \n",
    "    for i in range(len(Dna) - k + 1):\n",
    "        kmer = Dna[i : i + k]\n",
    "        # kmer_probabilty must be set to 1 because it will be multiplied by subsequent probs\n",
    "        kmer_probability = 1\n",
    "        # iterate throuh kmers and multiple probabilities from Profile dictionaries\n",
    "        for i, basepair in enumerate(kmer):\n",
    "            # index through dictionary for value i in key basepair\n",
    "            probability = profile[basepair][i]\n",
    "            # multiple probability by existing probability_value\n",
    "            kmer_probability *= probability\n",
    "        \n",
    "        # check if kmer_probability is largest value seen so far, replace variable if so\n",
    "        if kmer_probability > kmer_probability_max:\n",
    "            kmer_probability_max = kmer_probability\n",
    "            max_kmer = kmer\n",
    "            \n",
    "    return max_kmer"
   ]
  },
  {
   "cell_type": "code",
   "execution_count": 73,
   "metadata": {},
   "outputs": [],
   "source": [
    "DNA = \"ACCTGTTTATTGCCTAAGTTCCGAACAAACCCAATATAGCCCGAGGGCCT\"\n",
    "k = 5\n",
    "profile = { 'A' : [0.2, 0.2, 0.3, 0.2, 0.3],\n",
    "            'C' : [0.4, 0.3, 0.1, 0.5, 0.1],\n",
    "            'G' : [0.3, 0.3, 0.5, 0.2, 0.4],\n",
    "            'T' : [0.1, 0.2, 0.1, 0.1, 0.2]\n",
    "        }"
   ]
  },
  {
   "cell_type": "code",
   "execution_count": 74,
   "metadata": {},
   "outputs": [
    {
     "data": {
      "text/plain": [
       "'CCGAG'"
      ]
     },
     "execution_count": 74,
     "metadata": {},
     "output_type": "execute_result"
    }
   ],
   "source": [
    "ProfileMostProbable(DNA, k, profile)"
   ]
  },
  {
   "cell_type": "markdown",
   "metadata": {},
   "source": [
    "#### Problem BA2D: Implement GreedyMotifSearch\n",
    "http://rosalind.info/problems/ba2d/"
   ]
  },
  {
   "cell_type": "code",
   "execution_count": null,
   "metadata": {},
   "outputs": [],
   "source": [
    "def GreedyMotifSeartch(k, t, Dna):\n",
    "    \n",
    "    # Step 1: Initialize best_motifs with first kmer from each string\n",
    "    # best_motifs is a list of kmers length k from each Dna string\n",
    "    \n",
    "    # Step 2: (Outer Loop) Iterate through first Dna string for each kmer length k\n",
    "    \n",
    "        # Step 3a: (Inner Loop) For each kmer from outer loop, create a profile matrix of kmers in subsequent strings\n",
    "        # Step 3b. Find the most Profile-most Probable motif in Dna string being iterated on\n",
    "        # Step 3c. Add resulting motif to motif list\n",
    "        # Continue this process for subsequent Dna_string lines\n",
    "        \n",
    "    # Step 4: Compare current motif with best_motif"
   ]
  }
 ],
 "metadata": {
  "kernelspec": {
   "display_name": "Python 3",
   "language": "python",
   "name": "python3"
  },
  "language_info": {
   "codemirror_mode": {
    "name": "ipython",
    "version": 3
   },
   "file_extension": ".py",
   "mimetype": "text/x-python",
   "name": "python",
   "nbconvert_exporter": "python",
   "pygments_lexer": "ipython3",
   "version": "3.5.2"
  }
 },
 "nbformat": 4,
 "nbformat_minor": 2
}
