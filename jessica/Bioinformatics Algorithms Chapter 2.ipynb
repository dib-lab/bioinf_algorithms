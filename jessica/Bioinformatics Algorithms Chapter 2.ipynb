{
 "cells": [
  {
   "cell_type": "markdown",
   "metadata": {},
   "source": [
    "## Chapter 2"
   ]
  },
  {
   "cell_type": "markdown",
   "metadata": {},
   "source": [
    "#### Problem BA2A: Motif Enumeration\n",
    "http://rosalind.info/problems/ba2a/"
   ]
  },
  {
   "cell_type": "code",
   "execution_count": 71,
   "metadata": {},
   "outputs": [],
   "source": [
    "# from ba1g.py import HammingDistance\n",
    "# from ba1j.py import CreateKmers\n",
    "\n",
    "def HammingDistance(string1, string2):\n",
    "    \n",
    "    \"This function calculates the Hamming Distance between two strings of equal length.\"\n",
    "    \n",
    "    # check if strings are the same length\n",
    "    # alternate: assert len(string1) == len(string2), \"Strings must be same length!\"\n",
    "    if len(string1) != len(string2):\n",
    "        print(\"Strings must be the same length!\")\n",
    "        \n",
    "    number_mismatches = 0\n",
    "    string_length = len(string1)\n",
    "    for i in range(string_length):\n",
    "        if string1[i] != string2[i]:\n",
    "            number_mismatches += 1\n",
    "\n",
    "    return number_mismatches\n",
    "\n",
    "assert HammingDistance(\"AACC\", \"AAAA\") == 2"
   ]
  },
  {
   "cell_type": "code",
   "execution_count": 80,
   "metadata": {},
   "outputs": [],
   "source": [
    "def CreateKmers(kmer, d):\n",
    "    \"This function creates all possible kmers in the string Dna of length k\"\n",
    "    new_kmers = []\n",
    "    if d == 0:\n",
    "        # why is this in brackets\n",
    "        return [kmer]\n",
    "    elif len(kmer) == 1:\n",
    "        return ['A', 'G', 'C', 'T']\n",
    "    # generate mismatches\n",
    "    for neighbor in CreateKmers(kmer[1:], d):\n",
    "        if HammingDistance(kmer[1:], neighbor) < d:\n",
    "            new_kmers += ['A' + neighbor, 'C' + neighbor, 'G' + neighbor, 'T' + neighbor]\n",
    "        else:\n",
    "            new_kmers += [kmer[0] + neighbor]\n",
    "            \n",
    "    return new_kmers\n",
    "\n",
    "assert CreateKmers('CAT', 1) == ['CAA', 'CAG', 'CAC', 'AAT', 'CAT', 'GAT', 'TAT', 'CCT', 'CGT', 'CTT']"
   ]
  },
  {
   "cell_type": "code",
   "execution_count": 83,
   "metadata": {},
   "outputs": [],
   "source": [
    "def MotifEnumeration(k, d, Dna):\n",
    "    patterns = set()\n",
    "    first_DNA_string = Dna[0]\n",
    "    \n",
    "    # generate all possible kmers from first loop\n",
    "    for i in range(len(first_DNA_string) - k + 1):\n",
    "        kmer = first_DNA_string[i : i + k]\n",
    "        for new_kmers in CreateKmers(kmer, d):\n",
    "            patterns.add(new_kmers)\n",
    "    \n",
    "    # compare first_kmers with kmers in subsequent strings\n",
    "    for dna in Dna[1:]:\n",
    "        current_kmers = set()\n",
    "        \n",
    "        for p in range(len(dna) - k + 1):\n",
    "            for pattern_p in patterns:\n",
    "                if HammingDistance(dna[p : p + k], pattern_p) <= d:\n",
    "                    current_kmers.add(pattern_p)\n",
    "    \n",
    "        patterns = patterns.intersection(current_kmers)\n",
    "        \n",
    "    return patterns\n",
    "\n",
    "assert MotifEnumeration(3, 1, [\"ATTTGGC\", \"TGCCTTA\", \"CGGTATC\", \"GAAAATT\"]) == {'ATA', 'ATT', 'GTT', 'TTT'}"
   ]
  },
  {
   "cell_type": "code",
   "execution_count": 84,
   "metadata": {},
   "outputs": [
    {
     "data": {
      "text/plain": [
       "{'ATA', 'ATT', 'GTT', 'TTT'}"
      ]
     },
     "execution_count": 84,
     "metadata": {},
     "output_type": "execute_result"
    }
   ],
   "source": [
    "MotifEnumeration(3, 1, [\"ATTTGGC\", \"TGCCTTA\", \"CGGTATC\", \"GAAAATT\"])"
   ]
  },
  {
   "cell_type": "markdown",
   "metadata": {},
   "source": [
    "#### Problem BA2B: Find a Median String\n",
    "http://rosalind.info/problems/ba2b/"
   ]
  },
  {
   "cell_type": "code",
   "execution_count": 58,
   "metadata": {},
   "outputs": [],
   "source": [
    "from itertools import product\n",
    "import sys\n",
    "\n",
    "# from ba1g.py import HammingDistance\n",
    "\n",
    "def HammingDistance(string1, string2):\n",
    "    \n",
    "    \"This function calculates the Hamming Distance between two strings of equal length.\"\n",
    "    \n",
    "    # check if strings are the same length\n",
    "    # alternate: assert len(string1) == len(string2), \"Strings must be same length!\"\n",
    "    if len(string1) != len(string2):\n",
    "        print(\"Strings must be the same length!\")\n",
    "        \n",
    "    number_mismatches = 0\n",
    "    string_length = len(string1)\n",
    "    for i in range(string_length):\n",
    "        if string1[i] != string2[i]:\n",
    "            number_mismatches += 1\n",
    "\n",
    "    return number_mismatches\n",
    "\n",
    "assert HammingDistance(\"AACC\", \"AAAA\") == 2"
   ]
  },
  {
   "cell_type": "code",
   "execution_count": 63,
   "metadata": {},
   "outputs": [],
   "source": [
    "def Distance(pattern, Dna):\n",
    "    \"This function finds the summed distances of a kmer pattern over multiple DNA strings\"\n",
    "    distances = []\n",
    "    k = len(pattern)\n",
    "    for Dna_line in Dna:\n",
    "        # set current_min to large number\n",
    "        current_min = sys.maxsize\n",
    "        for i in range(len(Dna_line) - k + 1):\n",
    "            # find minimum between current min and the HammingDistance of the pattern and slice of Dna_line\n",
    "            current_min = min(HammingDistance(pattern, Dna_line[i : i + k]), current_min)\n",
    "        distances.append(current_min)\n",
    "    \n",
    "    return sum(distances)\n",
    "\n",
    "assert Distance('AAA', ['AAATTGACGCAT', 'GACGACCACGTT', 'CGTCAGCGCCTG', 'GCTGAGCACCGG', 'AGTACGGGACAG']) == 7"
   ]
  },
  {
   "cell_type": "code",
   "execution_count": 66,
   "metadata": {},
   "outputs": [],
   "source": [
    "def FindMedianString(k, Dna):\n",
    "    # set distance value to high number\n",
    "    distance = sys.maxsize\n",
    "    # generate all possible kmers of length k, iterate through all to find distance sum\n",
    "    for pattern in product(\"ACGT\", repeat = k):\n",
    "        # join output of product (a list) into string\n",
    "        pattern = \"\".join(pattern)\n",
    "        # check distances for each pattern with distance function\n",
    "        d = Distance(pattern, Dna)\n",
    "        # compare each kmer and if it has a smaller distance sum than current value, redefine variables\n",
    "        if d < distance:\n",
    "            distance = d\n",
    "            median = pattern\n",
    "            \n",
    "    return median\n",
    "\n",
    "assert FindMedianString(3, [\"AAATTGACGCAT\", \"GACGACCACGTT\", \"CGTCAGCGCCTG\", \"GCTGAGCACCGG\", \"AGTACGGGACAG\"]) == 'ACG'"
   ]
  },
  {
   "cell_type": "code",
   "execution_count": 67,
   "metadata": {},
   "outputs": [
    {
     "data": {
      "text/plain": [
       "'ACG'"
      ]
     },
     "execution_count": 67,
     "metadata": {},
     "output_type": "execute_result"
    }
   ],
   "source": [
    "FindMedianString(3, [\"AAATTGACGCAT\", \"GACGACCACGTT\", \"CGTCAGCGCCTG\", \"GCTGAGCACCGG\", \"AGTACGGGACAG\"])"
   ]
  },
  {
   "cell_type": "markdown",
   "metadata": {},
   "source": [
    "#### Problem BA2C: Find Profile-most Probable kmer in a String\n",
    "http://rosalind.info/problems/ba2c/"
   ]
  },
  {
   "cell_type": "code",
   "execution_count": 54,
   "metadata": {},
   "outputs": [],
   "source": [
    "def ProfileMostProbable(Dna, k, Profile):\n",
    "    kmer_probability_max = 0\n",
    "    max_kmer = \"\"\n",
    "    \n",
    "    for i in range(len(Dna) - k + 1):\n",
    "        kmer = Dna[i : i + k]\n",
    "        # kmer_probabilty must be set to 1 because it will be multiplied by subsequent probs\n",
    "        kmer_probability = 1\n",
    "        # iterate throuh kmers and multiple probabilities from Profile dictionaries\n",
    "        for i, basepair in enumerate(kmer):\n",
    "            # index through dictionary for value i in key basepair\n",
    "            probability = Profile[basepair][i]\n",
    "            # multiple probability by existing probability_value\n",
    "            kmer_probability *= probability\n",
    "        \n",
    "        # check if kmer_probability is largest value seen so far, replace variable if so\n",
    "        if kmer_probability > kmer_probability_max:\n",
    "            kmer_probability_max = kmer_probability\n",
    "            max_kmer = kmer\n",
    "            \n",
    "    return max_kmer\n",
    "\n",
    "assert ProfileMostProbable(\"ACCTGTTTATTGCCTAAGTTCCGAACAAACCCAATATAGCCCGAGGGCCT\", 5, {'A' : [0.2, 0.2, 0.3, 0.2, 0.3], 'C' : [0.4, 0.3, 0.1, 0.5, 0.1], 'G' : [0.3, 0.3, 0.5, 0.2, 0.4], 'T' : [0.1, 0.2, 0.1, 0.1, 0.2]}) == 'CCGAG'"
   ]
  },
  {
   "cell_type": "code",
   "execution_count": 55,
   "metadata": {},
   "outputs": [],
   "source": [
    "DNA = \"ACCTGTTTATTGCCTAAGTTCCGAACAAACCCAATATAGCCCGAGGGCCT\"\n",
    "k = 5\n",
    "profile = { 'A' : [0.2, 0.2, 0.3, 0.2, 0.3],\n",
    "            'C' : [0.4, 0.3, 0.1, 0.5, 0.1],\n",
    "            'G' : [0.3, 0.3, 0.5, 0.2, 0.4],\n",
    "            'T' : [0.1, 0.2, 0.1, 0.1, 0.2]\n",
    "        }"
   ]
  },
  {
   "cell_type": "code",
   "execution_count": 56,
   "metadata": {},
   "outputs": [
    {
     "data": {
      "text/plain": [
       "'CCGAG'"
      ]
     },
     "execution_count": 56,
     "metadata": {},
     "output_type": "execute_result"
    }
   ],
   "source": [
    "ProfileMostProbable(DNA, k, profile)"
   ]
  },
  {
   "cell_type": "markdown",
   "metadata": {},
   "source": [
    "#### Problem BA2D: Implement GreedyMotifSearch\n",
    "http://rosalind.info/problems/ba2d/"
   ]
  },
  {
   "cell_type": "code",
   "execution_count": 25,
   "metadata": {},
   "outputs": [],
   "source": [
    "# from ba1g.py import HammingDistance\n",
    "# from ba2c.py import ProfileMostProbable ## changed for list Profile instead of dictionary\n",
    "\n",
    "def HammingDistance(string1, string2):\n",
    "    \n",
    "    \"This function calculates the Hamming Distance between two strings of equal length.\"\n",
    "    \n",
    "    # check if strings are the same length\n",
    "    # alternate: assert len(string1) == len(string2), \"Strings must be same length!\"\n",
    "    if len(string1) != len(string2):\n",
    "        print(\"Strings must be the same length!\")\n",
    "        \n",
    "    number_mismatches = 0\n",
    "    string_length = len(string1)\n",
    "    for i in range(string_length):\n",
    "        if string1[i] != string2[i]:\n",
    "            number_mismatches += 1\n",
    "\n",
    "    return number_mismatches\n",
    "\n",
    "assert HammingDistance(\"AACC\", \"AAAA\") == 2"
   ]
  },
  {
   "cell_type": "code",
   "execution_count": 34,
   "metadata": {},
   "outputs": [],
   "source": [
    "def ProfileMostProbableList(Dna, k, Profile):\n",
    "    kmer_probability_max = 0\n",
    "    max_kmer = \"\"\n",
    "    pos = {'A' : 0, 'C' : 1, 'G' : 2, 'T' : 3}\n",
    "    for i in range(len(Dna) - k + 1):\n",
    "        kmer = Dna[i : i + k]\n",
    "        # kmer_probabilty must be set to 1 because it will be multiplied by subsequent probs\n",
    "        kmer_probability = 1\n",
    "        # iterate throuh kmers and multiple probabilities from Profile dictionaries\n",
    "        for j, basepair in enumerate(kmer):\n",
    "            # index through dictionary for value i in key basepair\n",
    "            probability = Profile[pos[basepair]][j]\n",
    "            # multiple probability by existing probability_value\n",
    "            kmer_probability *= probability\n",
    "        \n",
    "        # check if max_kmer is \"\"\n",
    "        if not max_kmer:\n",
    "            max_kmer = kmer\n",
    "            kmer_probability_max = kmer_probability\n",
    "        # check if kmer_probability is largest value seen so far, replace variable if so\n",
    "        elif kmer_probability > kmer_probability_max:\n",
    "            kmer_probability_max = kmer_probability\n",
    "            max_kmer = kmer\n",
    "    return max_kmer\n",
    "\n",
    "assert ProfileMostProbableList(\"AAGAATCAGTCA\", 3, [[0.0, 0.0, 0.0], [0.0, 0.0, 1.0], [1.0, 1.0, 0.0], [0.0, 0.0, 0.0]]) == \"AAG\""
   ]
  },
  {
   "cell_type": "code",
   "execution_count": 46,
   "metadata": {},
   "outputs": [],
   "source": [
    "def Profile(passed_motifs, k):\n",
    "    \"Creates a profile matrix for each passed profile matrix.\"\n",
    "    # create empty matrix of floats\n",
    "    matrix = []\n",
    "    for i in range(4):\n",
    "        # make k number of [0.0] entries in matrix for each spot in kmer\n",
    "        matrix.append([0.0] * k)\n",
    "        \n",
    "    # for each position in kmer, count bases\n",
    "    number_motifs = len(passed_motifs)\n",
    "    for i in range(k):\n",
    "        motif_count = {\"A\" : 0, \"C\" : 0, \"G\" : 0, \"T\" : 0}\n",
    "        for motif in passed_motifs:\n",
    "            motif_count[\"A\"] += motif[i].count(\"A\")\n",
    "            motif_count[\"C\"] += motif[i].count(\"C\")\n",
    "            motif_count[\"G\"] += motif[i].count(\"G\")\n",
    "            motif_count[\"T\"] += motif[i].count(\"T\")\n",
    "\n",
    "        # create matrix of profiles for each base\n",
    "        matrix[0][i] = motif_count[\"A\"] / number_motifs\n",
    "        matrix[1][i] = motif_count[\"C\"] / number_motifs\n",
    "        matrix[2][i] = motif_count[\"G\"] / number_motifs\n",
    "        matrix[3][i] = motif_count[\"T\"] / number_motifs\n",
    "        \n",
    "    return matrix\n",
    "\n",
    "assert Profile(['GGC', 'AAG'], 3) == [[0.5, 0.5, 0.0], [0.0, 0.0, 0.5], [0.5, 0.5, 0.5], [0.0, 0.0, 0.0]]"
   ]
  },
  {
   "cell_type": "code",
   "execution_count": 49,
   "metadata": {},
   "outputs": [],
   "source": [
    "def Score(passed_motifs):\n",
    "    \"This function scores differences between passed motifs and a consensus kmer from probability profiles.\"\n",
    "    k = len(passed_motifs[0])\n",
    "    consensus = []\n",
    "    for i in range(k):\n",
    "        freq = {\"A\" : 0, \"C\" : 0, \"G\" : 0, \"T\" : 0}\n",
    "        for motif in passed_motifs:\n",
    "            freq[\"A\"] += motif[i].count(\"A\")\n",
    "            freq[\"C\"] += motif[i].count(\"C\")\n",
    "            freq[\"G\"] += motif[i].count(\"G\")\n",
    "            freq[\"T\"] += motif[i].count(\"T\")\n",
    "    \n",
    "        # based on freq above, creat a consensus kmer to compare to passed motif\n",
    "        max_freq = max(freq.values())\n",
    "        for nt, count in freq.items():\n",
    "            if count == max_freq:\n",
    "                consensus.append(nt)\n",
    "                break\n",
    "                \n",
    "    consensus = \"\".join(consensus)\n",
    "    score_value = 0\n",
    "    for motif in passed_motifs:\n",
    "        score_value += HammingDistance(motif, consensus)\n",
    "    \n",
    "    return score_value\n",
    "\n",
    "assert Score(['GGC', 'AAG', 'AAG', 'CAC', 'CAA']) == 7"
   ]
  },
  {
   "cell_type": "code",
   "execution_count": 52,
   "metadata": {},
   "outputs": [],
   "source": [
    "def GreedyMotifSearch(k, t, Dna):\n",
    "    # create list of best motifs from out of the first DNA string given\n",
    "    best_motifs = []\n",
    "    for seq in Dna:\n",
    "        first = seq[0:k]\n",
    "        best_motifs.append(first)\n",
    "    # best_motifs = [seq[:k] for seq in dna]\n",
    "    \n",
    "    # iterate over kmers in first Dna string, create a motif list for each kmer\n",
    "    first_seq = Dna[0]\n",
    "    for start in range(len(first_seq) - k + 1):\n",
    "        kmer = first_seq[start : start + k]\n",
    "        # start motif list based on this kmer from first_seq\n",
    "        motif = [kmer]\n",
    "        \n",
    "        # iterate over subsequent Dna strings, make  profile from them based on first_seq kmer\n",
    "        for i in range(1, t):\n",
    "            matrix = Profile(motif, k)\n",
    "            most_probable = ProfileMostProbableList(Dna[i], k, matrix)\n",
    "            motif.append(most_probable)\n",
    "            \n",
    "        # score motif, replace if best\n",
    "        if Score(motif) < Score(best_motifs):\n",
    "            best_motifs = motif\n",
    "            \n",
    "    return best_motifs\n",
    "\n",
    "assert GreedyMotifSearch(3, 5, [\"GGCGTTCAGGCA\", \"AAGAATCAGTCA\", \"CAAGGAGTTCGC\", \"CACGTCAATCAC\", \"CAATAATATTCG\"]) == ['CAG', 'CAG', 'CAA', 'CAA', 'CAA']"
   ]
  },
  {
   "cell_type": "code",
   "execution_count": 53,
   "metadata": {},
   "outputs": [
    {
     "data": {
      "text/plain": [
       "['CAG', 'CAG', 'CAA', 'CAA', 'CAA']"
      ]
     },
     "execution_count": 53,
     "metadata": {},
     "output_type": "execute_result"
    }
   ],
   "source": [
    "GreedyMotifSearch(3, 5, [\"GGCGTTCAGGCA\", \"AAGAATCAGTCA\", \"CAAGGAGTTCGC\", \"CACGTCAATCAC\", \"CAATAATATTCG\"])"
   ]
  },
  {
   "cell_type": "markdown",
   "metadata": {},
   "source": [
    "#### Problem BA2E: Implement GreedyMotifSearch with Pseudocounts\n",
    "http://rosalind.info/problems/ba2e/"
   ]
  },
  {
   "cell_type": "code",
   "execution_count": null,
   "metadata": {},
   "outputs": [],
   "source": [
    "def GreedyMotifSearch(k, t, Dna):\n",
    "    # create list of best motifs from out of the first DNA string given\n",
    "    best_motifs = []\n",
    "    for seq in Dna:\n",
    "        first = seq[0:k]\n",
    "        best_motifs.append(first)\n",
    "    # best_motifs = [seq[:k] for seq in dna]\n",
    "    \n",
    "    # iterate over kmers in first Dna string, create a motif list for each kmer\n",
    "    first_seq = Dna[0]\n",
    "    for start in range(len(first_seq) - k + 1):\n",
    "        kmer = first_seq[start : start + k]\n",
    "        # start motif list based on this kmer from first_seq\n",
    "        motif = [kmer]\n",
    "        \n",
    "        # iterate over subsequent Dna strings, make  profile from them based on first_seq kmer\n",
    "        for i in range(1, t):\n",
    "            matrix = Profile(motif, k)\n",
    "            most_probable = ProfileMostProbable(Dna[i], k, matrix)\n",
    "            motif.append(most_probable)\n",
    "            \n",
    "        # score motif, replace if best\n",
    "        if score(motif) < score(best_motifs):\n",
    "            best_motifs = score\n",
    "            \n",
    "    return best_motifs"
   ]
  }
 ],
 "metadata": {
  "kernelspec": {
   "display_name": "Python 3",
   "language": "python",
   "name": "python3"
  },
  "language_info": {
   "codemirror_mode": {
    "name": "ipython",
    "version": 3
   },
   "file_extension": ".py",
   "mimetype": "text/x-python",
   "name": "python",
   "nbconvert_exporter": "python",
   "pygments_lexer": "ipython3",
   "version": "3.5.2"
  }
 },
 "nbformat": 4,
 "nbformat_minor": 2
}
